{
 "cells": [
  {
   "cell_type": "markdown",
   "metadata": {},
   "source": [
    "# Training - Cornell Dataset"
   ]
  },
  {
   "cell_type": "markdown",
   "metadata": {},
   "source": [
    "## Imports"
   ]
  },
  {
   "cell_type": "code",
   "execution_count": 1,
   "metadata": {},
   "outputs": [],
   "source": [
    "from tensorflow.keras import regularizers, layers, losses, preprocessing\n",
    "from tensorflow.keras.callbacks import EarlyStopping, ModelCheckpoint\n",
    "from tensorflow.keras.preprocessing.sequence import pad_sequences\n",
    "from tensorflow.keras.preprocessing.text import Tokenizer\n",
    "from sklearn.model_selection import train_test_split\n",
    "from sklearn.metrics import classification_report\n",
    "from helper_fxns import remove_url, clean_text\n",
    "from sklearn.preprocessing import LabelEncoder\n",
    "from collections import Counter\n",
    "import matplotlib.pyplot as plt\n",
    "import tensorflow as tf\n",
    "import seaborn as sb\n",
    "import pandas as pd\n",
    "import numpy as np\n",
    "import os, shutil\n",
    "import string\n",
    "import nltk\n",
    "import sys\n",
    "import re\n",
    "\n",
    "import pydot"
   ]
  },
  {
   "cell_type": "markdown",
   "metadata": {},
   "source": [
    "## Checking GPU"
   ]
  },
  {
   "cell_type": "code",
   "execution_count": 2,
   "metadata": {},
   "outputs": [
    {
     "name": "stdout",
     "output_type": "stream",
     "text": [
      "Default GPU Device: /device:GPU:0Metal device set to: Apple M1\n",
      "\n",
      "systemMemory: 16.00 GB\n",
      "maxCacheSize: 5.33 GB\n",
      "\n",
      "\n"
     ]
    },
    {
     "name": "stderr",
     "output_type": "stream",
     "text": [
      "2022-11-06 11:37:35.318696: I tensorflow/core/common_runtime/pluggable_device/pluggable_device_factory.cc:305] Could not identify NUMA node of platform GPU ID 0, defaulting to 0. Your kernel may not have been built with NUMA support.\n",
      "2022-11-06 11:37:35.318792: I tensorflow/core/common_runtime/pluggable_device/pluggable_device_factory.cc:271] Created TensorFlow device (/device:GPU:0 with 0 MB memory) -> physical PluggableDevice (device: 0, name: METAL, pci bus id: <undefined>)\n",
      "2022-11-06 11:37:35.319695: I tensorflow/core/common_runtime/pluggable_device/pluggable_device_factory.cc:305] Could not identify NUMA node of platform GPU ID 0, defaulting to 0. Your kernel may not have been built with NUMA support.\n",
      "2022-11-06 11:37:35.319705: I tensorflow/core/common_runtime/pluggable_device/pluggable_device_factory.cc:271] Created TensorFlow device (/device:GPU:0 with 0 MB memory) -> physical PluggableDevice (device: 0, name: METAL, pci bus id: <undefined>)\n"
     ]
    }
   ],
   "source": [
    "if tf.test.gpu_device_name():\n",
    "  print(\"Default GPU Device: {}\".format(tf.test.gpu_device_name()))\n",
    "else:\n",
    "  print('Please install GPU version of TF')"
   ]
  },
  {
   "cell_type": "markdown",
   "metadata": {},
   "source": [
    "## Converting the Cornell Dataset into DataFrames\n",
    "\n",
    "The codes in this subsection only needs to be run once, as the data has already been combined into 1 csv file and is saved. Hence, the next time round, this section can just be skipped and the .csv file can just be loaded in directly."
   ]
  },
  {
   "cell_type": "code",
   "execution_count": 3,
   "metadata": {},
   "outputs": [],
   "source": [
    "def create_df(tag):\n",
    "    DIR = os.path.join(\"review_polarity/txt_sentoken/\", tag)\n",
    "    contents = os.listdir(DIR)\n",
    "\n",
    "    text = []\n",
    "\n",
    "    if \".DS_Store\" in contents:\n",
    "        contents.remove(\".DS_Store\")\n",
    "\n",
    "    for file in contents:\n",
    "        file_path = os.path.join(DIR, file)\n",
    "        with open(file_path) as f:\n",
    "            lines = f.read()\n",
    "        lines = lines.replace(\"\\n\", \" \")\n",
    "        text.append(lines)\n",
    "    \n",
    "    num_texts = len(contents)\n",
    "    label = [tag] * num_texts\n",
    "\n",
    "    if len(text) == len(label):\n",
    "        print(\"INFO: Correct Length of Text and Label!\")\n",
    "    else:\n",
    "        print(f\"ERROR: Mismatch of Lengths Text : {len(text)}, Label : {len(label)}\")\n",
    "        sys.exit(1)\n",
    "\n",
    "    data_dict = {\"text\" : text, \"sentiment\" : label}\n",
    "\n",
    "    data_df = pd.DataFrame(data_dict)\n",
    "    return data_df"
   ]
  },
  {
   "cell_type": "code",
   "execution_count": 4,
   "metadata": {},
   "outputs": [
    {
     "name": "stdout",
     "output_type": "stream",
     "text": [
      "INFO: Correct Length of Text and Label!\n",
      "INFO: Correct Length of Text and Label!\n"
     ]
    },
    {
     "data": {
      "text/html": [
       "<div>\n",
       "<style scoped>\n",
       "    .dataframe tbody tr th:only-of-type {\n",
       "        vertical-align: middle;\n",
       "    }\n",
       "\n",
       "    .dataframe tbody tr th {\n",
       "        vertical-align: top;\n",
       "    }\n",
       "\n",
       "    .dataframe thead th {\n",
       "        text-align: right;\n",
       "    }\n",
       "</style>\n",
       "<table border=\"1\" class=\"dataframe\">\n",
       "  <thead>\n",
       "    <tr style=\"text-align: right;\">\n",
       "      <th></th>\n",
       "      <th>text</th>\n",
       "      <th>sentiment</th>\n",
       "    </tr>\n",
       "  </thead>\n",
       "  <tbody>\n",
       "    <tr>\n",
       "      <th>0</th>\n",
       "      <td>assume nothing .  the phrase is perhaps one of...</td>\n",
       "      <td>pos</td>\n",
       "    </tr>\n",
       "    <tr>\n",
       "      <th>1</th>\n",
       "      <td>plot : derek zoolander is a male model .  he i...</td>\n",
       "      <td>pos</td>\n",
       "    </tr>\n",
       "    <tr>\n",
       "      <th>2</th>\n",
       "      <td>i actually am a fan of the original 1961 or so...</td>\n",
       "      <td>pos</td>\n",
       "    </tr>\n",
       "    <tr>\n",
       "      <th>3</th>\n",
       "      <td>a movie that's been as highly built up as the ...</td>\n",
       "      <td>pos</td>\n",
       "    </tr>\n",
       "    <tr>\n",
       "      <th>4</th>\n",
       "      <td>\" good will hunting \" is two movies in one : ...</td>\n",
       "      <td>pos</td>\n",
       "    </tr>\n",
       "  </tbody>\n",
       "</table>\n",
       "</div>"
      ],
      "text/plain": [
       "                                                text sentiment\n",
       "0  assume nothing .  the phrase is perhaps one of...       pos\n",
       "1  plot : derek zoolander is a male model .  he i...       pos\n",
       "2  i actually am a fan of the original 1961 or so...       pos\n",
       "3  a movie that's been as highly built up as the ...       pos\n",
       "4   \" good will hunting \" is two movies in one : ...       pos"
      ]
     },
     "execution_count": 4,
     "metadata": {},
     "output_type": "execute_result"
    }
   ],
   "source": [
    "pos_df = create_df('pos')\n",
    "neg_df = create_df('neg')\n",
    "pos_df.head()"
   ]
  },
  {
   "cell_type": "code",
   "execution_count": 5,
   "metadata": {},
   "outputs": [
    {
     "data": {
      "text/html": [
       "<div>\n",
       "<style scoped>\n",
       "    .dataframe tbody tr th:only-of-type {\n",
       "        vertical-align: middle;\n",
       "    }\n",
       "\n",
       "    .dataframe tbody tr th {\n",
       "        vertical-align: top;\n",
       "    }\n",
       "\n",
       "    .dataframe thead th {\n",
       "        text-align: right;\n",
       "    }\n",
       "</style>\n",
       "<table border=\"1\" class=\"dataframe\">\n",
       "  <thead>\n",
       "    <tr style=\"text-align: right;\">\n",
       "      <th></th>\n",
       "      <th>text</th>\n",
       "      <th>sentiment</th>\n",
       "    </tr>\n",
       "  </thead>\n",
       "  <tbody>\n",
       "    <tr>\n",
       "      <th>0</th>\n",
       "      <td>bad . bad .  bad .  that one word seems to pre...</td>\n",
       "      <td>neg</td>\n",
       "    </tr>\n",
       "    <tr>\n",
       "      <th>1</th>\n",
       "      <td>isn't it the ultimate sign of a movie's cinema...</td>\n",
       "      <td>neg</td>\n",
       "    </tr>\n",
       "    <tr>\n",
       "      <th>2</th>\n",
       "      <td>\" gordy \" is not a movie , it is a 90-minute-...</td>\n",
       "      <td>neg</td>\n",
       "    </tr>\n",
       "    <tr>\n",
       "      <th>3</th>\n",
       "      <td>disconnect the phone line .  don't accept the ...</td>\n",
       "      <td>neg</td>\n",
       "    </tr>\n",
       "    <tr>\n",
       "      <th>4</th>\n",
       "      <td>when robert forster found himself famous again...</td>\n",
       "      <td>neg</td>\n",
       "    </tr>\n",
       "  </tbody>\n",
       "</table>\n",
       "</div>"
      ],
      "text/plain": [
       "                                                text sentiment\n",
       "0  bad . bad .  bad .  that one word seems to pre...       neg\n",
       "1  isn't it the ultimate sign of a movie's cinema...       neg\n",
       "2   \" gordy \" is not a movie , it is a 90-minute-...       neg\n",
       "3  disconnect the phone line .  don't accept the ...       neg\n",
       "4  when robert forster found himself famous again...       neg"
      ]
     },
     "execution_count": 5,
     "metadata": {},
     "output_type": "execute_result"
    }
   ],
   "source": [
    "neg_df.head()"
   ]
  },
  {
   "cell_type": "markdown",
   "metadata": {},
   "source": [
    "### Concatenating the DataFrames"
   ]
  },
  {
   "cell_type": "code",
   "execution_count": 6,
   "metadata": {},
   "outputs": [
    {
     "data": {
      "text/html": [
       "<div>\n",
       "<style scoped>\n",
       "    .dataframe tbody tr th:only-of-type {\n",
       "        vertical-align: middle;\n",
       "    }\n",
       "\n",
       "    .dataframe tbody tr th {\n",
       "        vertical-align: top;\n",
       "    }\n",
       "\n",
       "    .dataframe thead th {\n",
       "        text-align: right;\n",
       "    }\n",
       "</style>\n",
       "<table border=\"1\" class=\"dataframe\">\n",
       "  <thead>\n",
       "    <tr style=\"text-align: right;\">\n",
       "      <th></th>\n",
       "      <th>text</th>\n",
       "      <th>sentiment</th>\n",
       "    </tr>\n",
       "  </thead>\n",
       "  <tbody>\n",
       "    <tr>\n",
       "      <th>0</th>\n",
       "      <td>assume nothing .  the phrase is perhaps one of...</td>\n",
       "      <td>pos</td>\n",
       "    </tr>\n",
       "    <tr>\n",
       "      <th>1</th>\n",
       "      <td>plot : derek zoolander is a male model .  he i...</td>\n",
       "      <td>pos</td>\n",
       "    </tr>\n",
       "    <tr>\n",
       "      <th>2</th>\n",
       "      <td>i actually am a fan of the original 1961 or so...</td>\n",
       "      <td>pos</td>\n",
       "    </tr>\n",
       "    <tr>\n",
       "      <th>3</th>\n",
       "      <td>a movie that's been as highly built up as the ...</td>\n",
       "      <td>pos</td>\n",
       "    </tr>\n",
       "    <tr>\n",
       "      <th>4</th>\n",
       "      <td>\" good will hunting \" is two movies in one : ...</td>\n",
       "      <td>pos</td>\n",
       "    </tr>\n",
       "    <tr>\n",
       "      <th>...</th>\n",
       "      <td>...</td>\n",
       "      <td>...</td>\n",
       "    </tr>\n",
       "    <tr>\n",
       "      <th>1995</th>\n",
       "      <td>synopsis : when a meteorite crashlands in the ...</td>\n",
       "      <td>neg</td>\n",
       "    </tr>\n",
       "    <tr>\n",
       "      <th>1996</th>\n",
       "      <td>it's now the anniversary of the slayings of ju...</td>\n",
       "      <td>neg</td>\n",
       "    </tr>\n",
       "    <tr>\n",
       "      <th>1997</th>\n",
       "      <td>coinciding with the emerging popularity of mov...</td>\n",
       "      <td>neg</td>\n",
       "    </tr>\n",
       "    <tr>\n",
       "      <th>1998</th>\n",
       "      <td>and now the high-flying hong kong style of fil...</td>\n",
       "      <td>neg</td>\n",
       "    </tr>\n",
       "    <tr>\n",
       "      <th>1999</th>\n",
       "      <td>battlefield long , boring and just plain stupi...</td>\n",
       "      <td>neg</td>\n",
       "    </tr>\n",
       "  </tbody>\n",
       "</table>\n",
       "<p>2000 rows × 2 columns</p>\n",
       "</div>"
      ],
      "text/plain": [
       "                                                   text sentiment\n",
       "0     assume nothing .  the phrase is perhaps one of...       pos\n",
       "1     plot : derek zoolander is a male model .  he i...       pos\n",
       "2     i actually am a fan of the original 1961 or so...       pos\n",
       "3     a movie that's been as highly built up as the ...       pos\n",
       "4      \" good will hunting \" is two movies in one : ...       pos\n",
       "...                                                 ...       ...\n",
       "1995  synopsis : when a meteorite crashlands in the ...       neg\n",
       "1996  it's now the anniversary of the slayings of ju...       neg\n",
       "1997  coinciding with the emerging popularity of mov...       neg\n",
       "1998  and now the high-flying hong kong style of fil...       neg\n",
       "1999  battlefield long , boring and just plain stupi...       neg\n",
       "\n",
       "[2000 rows x 2 columns]"
      ]
     },
     "execution_count": 6,
     "metadata": {},
     "output_type": "execute_result"
    }
   ],
   "source": [
    "df = pd.concat([pos_df, neg_df], ignore_index=True)\n",
    "df"
   ]
  },
  {
   "cell_type": "markdown",
   "metadata": {},
   "source": [
    "### Writing the DataFrame into a csv"
   ]
  },
  {
   "cell_type": "code",
   "execution_count": 7,
   "metadata": {},
   "outputs": [],
   "source": [
    "df.to_csv('cornell_v2_polarity.csv', index=False)"
   ]
  },
  {
   "cell_type": "markdown",
   "metadata": {},
   "source": [
    "## Loading the Datasets\n",
    "\n",
    "The Crawled Dataset acts as our test dataset, while the Cornell Polarity Dataset makes up our training and validation set. Hence, the test set should also go through tokenization and other preprocessing steps that the training and vaidation set go through in order to make it a fair evaluation. \n",
    "\n",
    "The Crawled Dataset has been processed to look similar to the Cornell Polarity Dataset, eg: Changing mapping the labels as follows:\n",
    "\n",
    "{'POSITIVE' : 'pos', 'NEGATIVE' : 'neg'}\n",
    "\n",
    "The Test Dataset has already gone through removing the URLs and Punctuation. The code for this can be found in **processing_datasets_test.ipynb**"
   ]
  },
  {
   "cell_type": "markdown",
   "metadata": {},
   "source": [
    "### Crawled Dataset (Test)\n",
    "\n",
    "NOTE: While loading the Crawled Dataset, some of the decimal numbers in the text might be read as floats, this would give problems in tokenizaiton, hence, we ensure that the whole dataframe contains the str type by adding on the method .astype(str) while importing the csv file."
   ]
  },
  {
   "cell_type": "code",
   "execution_count": 108,
   "metadata": {},
   "outputs": [
    {
     "data": {
      "text/html": [
       "<div>\n",
       "<style scoped>\n",
       "    .dataframe tbody tr th:only-of-type {\n",
       "        vertical-align: middle;\n",
       "    }\n",
       "\n",
       "    .dataframe tbody tr th {\n",
       "        vertical-align: top;\n",
       "    }\n",
       "\n",
       "    .dataframe thead th {\n",
       "        text-align: right;\n",
       "    }\n",
       "</style>\n",
       "<table border=\"1\" class=\"dataframe\">\n",
       "  <thead>\n",
       "    <tr style=\"text-align: right;\">\n",
       "      <th></th>\n",
       "      <th>text</th>\n",
       "      <th>sentiment</th>\n",
       "    </tr>\n",
       "  </thead>\n",
       "  <tbody>\n",
       "    <tr>\n",
       "      <th>0</th>\n",
       "      <td>weaknesses are minor the feel and layout the r...</td>\n",
       "      <td>neg</td>\n",
       "    </tr>\n",
       "    <tr>\n",
       "      <th>1</th>\n",
       "      <td>many our disney movies play this dvd player</td>\n",
       "      <td>neg</td>\n",
       "    </tr>\n",
       "    <tr>\n",
       "      <th>2</th>\n",
       "      <td>player has problem with duallayer dvd such ali...</td>\n",
       "      <td>neg</td>\n",
       "    </tr>\n",
       "    <tr>\n",
       "      <th>3</th>\n",
       "      <td>know the saying you get what you pay for but t...</td>\n",
       "      <td>neg</td>\n",
       "    </tr>\n",
       "    <tr>\n",
       "      <th>4</th>\n",
       "      <td>will never purchase apex again</td>\n",
       "      <td>neg</td>\n",
       "    </tr>\n",
       "  </tbody>\n",
       "</table>\n",
       "</div>"
      ],
      "text/plain": [
       "                                                text sentiment\n",
       "0  weaknesses are minor the feel and layout the r...       neg\n",
       "1        many our disney movies play this dvd player       neg\n",
       "2  player has problem with duallayer dvd such ali...       neg\n",
       "3  know the saying you get what you pay for but t...       neg\n",
       "4                     will never purchase apex again       neg"
      ]
     },
     "execution_count": 108,
     "metadata": {},
     "output_type": "execute_result"
    }
   ],
   "source": [
    "test_data = pd.read_csv('test_dataset.csv').astype(str)\n",
    "test_data.head()"
   ]
  },
  {
   "cell_type": "markdown",
   "metadata": {},
   "source": [
    "### Cornell Polarity Dataset (Training + Validation)"
   ]
  },
  {
   "cell_type": "code",
   "execution_count": 26,
   "metadata": {},
   "outputs": [
    {
     "data": {
      "text/html": [
       "<div>\n",
       "<style scoped>\n",
       "    .dataframe tbody tr th:only-of-type {\n",
       "        vertical-align: middle;\n",
       "    }\n",
       "\n",
       "    .dataframe tbody tr th {\n",
       "        vertical-align: top;\n",
       "    }\n",
       "\n",
       "    .dataframe thead th {\n",
       "        text-align: right;\n",
       "    }\n",
       "</style>\n",
       "<table border=\"1\" class=\"dataframe\">\n",
       "  <thead>\n",
       "    <tr style=\"text-align: right;\">\n",
       "      <th></th>\n",
       "      <th>text</th>\n",
       "      <th>sentiment</th>\n",
       "    </tr>\n",
       "  </thead>\n",
       "  <tbody>\n",
       "    <tr>\n",
       "      <th>0</th>\n",
       "      <td>assume nothing .  the phrase is perhaps one of...</td>\n",
       "      <td>pos</td>\n",
       "    </tr>\n",
       "    <tr>\n",
       "      <th>1</th>\n",
       "      <td>plot : derek zoolander is a male model .  he i...</td>\n",
       "      <td>pos</td>\n",
       "    </tr>\n",
       "    <tr>\n",
       "      <th>2</th>\n",
       "      <td>i actually am a fan of the original 1961 or so...</td>\n",
       "      <td>pos</td>\n",
       "    </tr>\n",
       "    <tr>\n",
       "      <th>3</th>\n",
       "      <td>a movie that's been as highly built up as the ...</td>\n",
       "      <td>pos</td>\n",
       "    </tr>\n",
       "    <tr>\n",
       "      <th>4</th>\n",
       "      <td>\" good will hunting \" is two movies in one : ...</td>\n",
       "      <td>pos</td>\n",
       "    </tr>\n",
       "  </tbody>\n",
       "</table>\n",
       "</div>"
      ],
      "text/plain": [
       "                                                text sentiment\n",
       "0  assume nothing .  the phrase is perhaps one of...       pos\n",
       "1  plot : derek zoolander is a male model .  he i...       pos\n",
       "2  i actually am a fan of the original 1961 or so...       pos\n",
       "3  a movie that's been as highly built up as the ...       pos\n",
       "4   \" good will hunting \" is two movies in one : ...       pos"
      ]
     },
     "execution_count": 26,
     "metadata": {},
     "output_type": "execute_result"
    }
   ],
   "source": [
    "df = pd.read_csv('cornell_polarity_combined.csv')\n",
    "df.head()"
   ]
  },
  {
   "cell_type": "markdown",
   "metadata": {},
   "source": [
    "## Preprocessing"
   ]
  },
  {
   "cell_type": "markdown",
   "metadata": {},
   "source": [
    "### Helper Functions to Remove URL and Clean Text\n",
    "\n",
    "Importing the remove_url and clean_text fucntions to remove any URL in the text and to remove punctuations in the text. Only for the Cornell Dataset as the Test Dataset has alreeady gone through this."
   ]
  },
  {
   "cell_type": "code",
   "execution_count": 27,
   "metadata": {},
   "outputs": [
    {
     "data": {
      "text/html": [
       "<div>\n",
       "<style scoped>\n",
       "    .dataframe tbody tr th:only-of-type {\n",
       "        vertical-align: middle;\n",
       "    }\n",
       "\n",
       "    .dataframe tbody tr th {\n",
       "        vertical-align: top;\n",
       "    }\n",
       "\n",
       "    .dataframe thead th {\n",
       "        text-align: right;\n",
       "    }\n",
       "</style>\n",
       "<table border=\"1\" class=\"dataframe\">\n",
       "  <thead>\n",
       "    <tr style=\"text-align: right;\">\n",
       "      <th></th>\n",
       "      <th>text</th>\n",
       "      <th>sentiment</th>\n",
       "    </tr>\n",
       "  </thead>\n",
       "  <tbody>\n",
       "    <tr>\n",
       "      <th>0</th>\n",
       "      <td>assume nothing the phrase perhaps one the most...</td>\n",
       "      <td>pos</td>\n",
       "    </tr>\n",
       "    <tr>\n",
       "      <th>1</th>\n",
       "      <td>plot derek zoolander male model also very dumb...</td>\n",
       "      <td>pos</td>\n",
       "    </tr>\n",
       "    <tr>\n",
       "      <th>2</th>\n",
       "      <td>actually fan the original liveactiondisney fli...</td>\n",
       "      <td>pos</td>\n",
       "    </tr>\n",
       "    <tr>\n",
       "      <th>3</th>\n",
       "      <td>movie thats been highly built the truman show ...</td>\n",
       "      <td>pos</td>\n",
       "    </tr>\n",
       "    <tr>\n",
       "      <th>4</th>\n",
       "      <td>good will hunting two movies one independent t...</td>\n",
       "      <td>pos</td>\n",
       "    </tr>\n",
       "  </tbody>\n",
       "</table>\n",
       "</div>"
      ],
      "text/plain": [
       "                                                text sentiment\n",
       "0  assume nothing the phrase perhaps one the most...       pos\n",
       "1  plot derek zoolander male model also very dumb...       pos\n",
       "2  actually fan the original liveactiondisney fli...       pos\n",
       "3  movie thats been highly built the truman show ...       pos\n",
       "4  good will hunting two movies one independent t...       pos"
      ]
     },
     "execution_count": 27,
     "metadata": {},
     "output_type": "execute_result"
    }
   ],
   "source": [
    "df['text'] = df['text'].apply(remove_url)\n",
    "df['text'] = df['text'].apply(clean_text)\n",
    "df.head()"
   ]
  },
  {
   "cell_type": "code",
   "execution_count": 28,
   "metadata": {},
   "outputs": [
    {
     "name": "stdout",
     "output_type": "stream",
     "text": [
      "Number of texts in each of the Classes: \n"
     ]
    },
    {
     "data": {
      "text/plain": [
       "pos    1000\n",
       "neg    1000\n",
       "Name: sentiment, dtype: int64"
      ]
     },
     "execution_count": 28,
     "metadata": {},
     "output_type": "execute_result"
    }
   ],
   "source": [
    "print(\"Number of texts in each of the Classes: \")\n",
    "df['sentiment'].value_counts()"
   ]
  },
  {
   "cell_type": "markdown",
   "metadata": {},
   "source": [
    "By looking at the value counts, we can see that the dataset is balanced and there is an equal distribution between Positive and Negative sentiments."
   ]
  },
  {
   "cell_type": "markdown",
   "metadata": {},
   "source": [
    "## Tokenization\n",
    "\n",
    "Updates a list on vocabulary based on the text. It kind of creates its Vocabulary. This is important before converting texts into sequences. "
   ]
  },
  {
   "cell_type": "code",
   "execution_count": 29,
   "metadata": {},
   "outputs": [],
   "source": [
    "#Instantiating Tokenizer on Cornell and Crawled Dataset\n",
    "num_words = 1000\n",
    "\n",
    "tokenizer = Tokenizer(num_words=num_words,oov_token=\"unk\")\n",
    "tokenizer.fit_on_texts(df['text'].tolist())\n",
    "tokenizer.fit_on_texts(test_data['text'].tolist())"
   ]
  },
  {
   "cell_type": "markdown",
   "metadata": {},
   "source": [
    "### Splitting Training Sets into Different Splits"
   ]
  },
  {
   "cell_type": "code",
   "execution_count": 31,
   "metadata": {},
   "outputs": [
    {
     "name": "stdout",
     "output_type": "stream",
     "text": [
      "Length of dataset: 2000\n",
      "Length of Train: 1600\n",
      "Length of Valid: 400\n",
      "Length of Test: 3771\n"
     ]
    }
   ],
   "source": [
    "#Prior to splitting\n",
    "print(f\"Length of dataset: {len(df)}\")\n",
    "print(f\"Length of Train: {int(0.8 * len(df))}\")\n",
    "print(f\"Length of Valid: {int(0.2 * len(df))}\")\n",
    "print(f\"Length of Test: {len(test_data)}\")"
   ]
  },
  {
   "cell_type": "code",
   "execution_count": 32,
   "metadata": {},
   "outputs": [],
   "source": [
    "#splitting into training and validation data\n",
    "X_train, X_valid, y_train, y_valid = train_test_split(df['text'].tolist(), \n",
    "                                                  df['sentiment'].tolist(), \n",
    "                                                  test_size=0.2, stratify=df['sentiment'].tolist(),\n",
    "                                                  random_state=0)"
   ]
  },
  {
   "cell_type": "code",
   "execution_count": 35,
   "metadata": {},
   "outputs": [],
   "source": [
    "X_test = test_data['text'].tolist()\n",
    "y_test = test_data['sentiment'].tolist()"
   ]
  },
  {
   "cell_type": "code",
   "execution_count": 37,
   "metadata": {},
   "outputs": [
    {
     "name": "stdout",
     "output_type": "stream",
     "text": [
      "Length of Train : 1600\n",
      "Length of Valid : 400\n",
      "Length of Test : 3771\n"
     ]
    }
   ],
   "source": [
    "print(f\"Length of Train : {len(X_train)}\")\n",
    "print(f\"Length of Valid : {len(X_valid)}\")\n",
    "print(f\"Length of Test : {len(X_test)}\")"
   ]
  },
  {
   "cell_type": "code",
   "execution_count": 39,
   "metadata": {},
   "outputs": [
    {
     "name": "stdout",
     "output_type": "stream",
     "text": [
      "Class Distributions:\n",
      "Train: Counter({'neg': 800, 'pos': 800})\n",
      "Valid: Counter({'neg': 200, 'pos': 200})\n",
      "Test: Counter({'pos': 2405, 'neg': 1366})\n"
     ]
    }
   ],
   "source": [
    "#getting the class distribution\n",
    "print(\"Class Distributions:\")\n",
    "print(f\"Train: {str(Counter(y_train))}\")\n",
    "print(f\"Valid: {str(Counter(y_valid))}\")\n",
    "print(f\"Test: {str(Counter(y_test))}\")"
   ]
  },
  {
   "cell_type": "markdown",
   "metadata": {},
   "source": [
    "### Converting Texts to Sequences and Storing them in Arrays\n",
    "\n",
    "Assigning an index to each word in the text sample. Do note that for the Tokenization, 0 is not assigned to any word, it is instead assigned to any new/unknown word that is not present in the vocabulary."
   ]
  },
  {
   "cell_type": "code",
   "execution_count": 40,
   "metadata": {},
   "outputs": [
    {
     "name": "stderr",
     "output_type": "stream",
     "text": [
      "/var/folders/54/f2chvxk17fd0vhl03xl62d_80000gn/T/ipykernel_1528/3986626980.py:2: VisibleDeprecationWarning: Creating an ndarray from ragged nested sequences (which is a list-or-tuple of lists-or-tuples-or ndarrays with different lengths or shapes) is deprecated. If you meant to do this, you must specify 'dtype=object' when creating the ndarray.\n",
      "  x_train = np.array(tokenizer.texts_to_sequences(X_train))\n",
      "/var/folders/54/f2chvxk17fd0vhl03xl62d_80000gn/T/ipykernel_1528/3986626980.py:3: VisibleDeprecationWarning: Creating an ndarray from ragged nested sequences (which is a list-or-tuple of lists-or-tuples-or ndarrays with different lengths or shapes) is deprecated. If you meant to do this, you must specify 'dtype=object' when creating the ndarray.\n",
      "  x_valid = np.array(tokenizer.texts_to_sequences(X_valid))\n",
      "/var/folders/54/f2chvxk17fd0vhl03xl62d_80000gn/T/ipykernel_1528/3986626980.py:4: VisibleDeprecationWarning: Creating an ndarray from ragged nested sequences (which is a list-or-tuple of lists-or-tuples-or ndarrays with different lengths or shapes) is deprecated. If you meant to do this, you must specify 'dtype=object' when creating the ndarray.\n",
      "  x_test = np.array(tokenizer.texts_to_sequences(X_test))\n"
     ]
    }
   ],
   "source": [
    "#Converts the texts to sequences and stores it in an array\n",
    "x_train = np.array(tokenizer.texts_to_sequences(X_train))\n",
    "x_valid = np.array(tokenizer.texts_to_sequences(X_valid))\n",
    "x_test = np.array(tokenizer.texts_to_sequences(X_test))"
   ]
  },
  {
   "cell_type": "markdown",
   "metadata": {},
   "source": [
    "## Padding the Sequences"
   ]
  },
  {
   "cell_type": "markdown",
   "metadata": {},
   "source": [
    "### Finding the Longest Word Sequence\n",
    "\n",
    "This is important as this kind of defines what the shape of the input should be."
   ]
  },
  {
   "cell_type": "code",
   "execution_count": 41,
   "metadata": {},
   "outputs": [
    {
     "name": "stdout",
     "output_type": "stream",
     "text": [
      "Longest Sentence in terms of words in Train:  1512\n",
      "Longest Sentence in terms of words in Valid:  1880\n",
      "Longest Sentence in terms of words in Test:  81\n"
     ]
    }
   ],
   "source": [
    "#finding the longest word sequence\n",
    "train_num_words_text = pd.DataFrame(X_train, columns=['text'])['text'].apply(lambda x:len(str(x).split()))\n",
    "max_len_train = max(train_num_words_text)\n",
    "\n",
    "valid_num_words_text = pd.DataFrame(X_valid, columns=['text'])['text'].apply(lambda x:len(str(x).split()))\n",
    "max_len_valid = max(valid_num_words_text)\n",
    "\n",
    "test_num_words_text = pd.DataFrame(X_test, columns=['text'])['text'].apply(lambda x:len(str(x).split()))\n",
    "max_len_test = max(test_num_words_text)\n",
    "\n",
    "print('Longest Sentence in terms of words in Train: ', max_len_train)\n",
    "print('Longest Sentence in terms of words in Valid: ', max_len_valid)\n",
    "print('Longest Sentence in terms of words in Test: ', max_len_test)"
   ]
  },
  {
   "cell_type": "markdown",
   "metadata": {},
   "source": [
    "Therefore, in order to account for the all the splits, we set the shape of the input as 1885."
   ]
  },
  {
   "cell_type": "code",
   "execution_count": 42,
   "metadata": {},
   "outputs": [],
   "source": [
    "MAXLEN = 1885"
   ]
  },
  {
   "cell_type": "code",
   "execution_count": 43,
   "metadata": {},
   "outputs": [],
   "source": [
    "x_train = pad_sequences(x_train, padding='post', maxlen=MAXLEN)\n",
    "x_valid = pad_sequences(x_valid, padding='post', maxlen=MAXLEN)\n",
    "x_test = pad_sequences(x_test, padding='post', maxlen=MAXLEN)"
   ]
  },
  {
   "cell_type": "code",
   "execution_count": 44,
   "metadata": {},
   "outputs": [
    {
     "data": {
      "text/plain": [
       "array([509, 534, 889, ...,   0,   0,   0], dtype=int32)"
      ]
     },
     "execution_count": 44,
     "metadata": {},
     "output_type": "execute_result"
    }
   ],
   "source": [
    "x_train[0]"
   ]
  },
  {
   "cell_type": "markdown",
   "metadata": {},
   "source": [
    "In this section, we extended the list of the sequences to the MAXLEN, in order to standardise across te splits."
   ]
  },
  {
   "cell_type": "markdown",
   "metadata": {},
   "source": [
    "## Encoding the Labels"
   ]
  },
  {
   "cell_type": "code",
   "execution_count": 45,
   "metadata": {},
   "outputs": [],
   "source": [
    "#Instantiating the LabelEncoder\n",
    "le = LabelEncoder()"
   ]
  },
  {
   "cell_type": "code",
   "execution_count": 46,
   "metadata": {},
   "outputs": [],
   "source": [
    "#Encoding the train labels\n",
    "train_labels = le.fit_transform(y_train)\n",
    "valid_labels = le.transform(y_valid)\n",
    "test_labels = le.transform(y_test)\n",
    "\n",
    "#Converting the encoded train labels into categorical form and then storing them as an array\n",
    "train_labels = np.asarray( tf.keras.utils.to_categorical(train_labels))\n",
    "valid_labels = np.asarray( tf.keras.utils.to_categorical(valid_labels))\n",
    "test_labels = np.asarray(tf.keras.utils.to_categorical(test_labels))"
   ]
  },
  {
   "cell_type": "code",
   "execution_count": 47,
   "metadata": {},
   "outputs": [
    {
     "data": {
      "text/plain": [
       "['neg', 'pos']"
      ]
     },
     "execution_count": 47,
     "metadata": {},
     "output_type": "execute_result"
    }
   ],
   "source": [
    "#Listing out the classes\n",
    "list(le.classes_)"
   ]
  },
  {
   "cell_type": "code",
   "execution_count": 54,
   "metadata": {},
   "outputs": [
    {
     "data": {
      "text/plain": [
       "array([[1., 0.],\n",
       "       [1., 0.],\n",
       "       [1., 0.],\n",
       "       ...,\n",
       "       [0., 1.],\n",
       "       [0., 1.],\n",
       "       [0., 1.]], dtype=float32)"
      ]
     },
     "execution_count": 54,
     "metadata": {},
     "output_type": "execute_result"
    }
   ],
   "source": [
    "test_labels"
   ]
  },
  {
   "cell_type": "markdown",
   "metadata": {},
   "source": [
    "From the le.classes_ we get to know the order in which the columns represent the classes in the labels array. Dince the output of le.classes_ is [neg, pos], the first column in the test_labels represent the neg class and the second column pos class. Hence, in the test_labels the first 3 rows represent neg class as the value in the first column is 1 and so on. This applies to all the labels."
   ]
  },
  {
   "cell_type": "markdown",
   "metadata": {},
   "source": [
    "## Creating our own Tensorflow Dataset"
   ]
  },
  {
   "cell_type": "code",
   "execution_count": 55,
   "metadata": {},
   "outputs": [
    {
     "name": "stderr",
     "output_type": "stream",
     "text": [
      "2022-10-29 16:06:24.775814: I tensorflow/core/common_runtime/pluggable_device/pluggable_device_factory.cc:305] Could not identify NUMA node of platform GPU ID 0, defaulting to 0. Your kernel may not have been built with NUMA support.\n",
      "2022-10-29 16:06:24.775837: I tensorflow/core/common_runtime/pluggable_device/pluggable_device_factory.cc:271] Created TensorFlow device (/job:localhost/replica:0/task:0/device:GPU:0 with 0 MB memory) -> physical PluggableDevice (device: 0, name: METAL, pci bus id: <undefined>)\n"
     ]
    }
   ],
   "source": [
    "train_ds = tf.data.Dataset.from_tensor_slices((x_train,train_labels))\n",
    "valid_ds = tf.data.Dataset.from_tensor_slices((x_valid,valid_labels))\n",
    "test_ds = tf.data.Dataset.from_tensor_slices((x_test,test_labels))"
   ]
  },
  {
   "cell_type": "code",
   "execution_count": 59,
   "metadata": {},
   "outputs": [
    {
     "name": "stdout",
     "output_type": "stream",
     "text": [
      "======Train dataset ====\n",
      "tf.Tensor([509 534 889 ...   0   0   0], shape=(1885,), dtype=int32) tf.Tensor([1. 0.], shape=(2,), dtype=float32)\n",
      "======Validation dataset ====\n",
      "tf.Tensor([  2  44 205 ...   0   0   0], shape=(1885,), dtype=int32) tf.Tensor([1. 0.], shape=(2,), dtype=float32)\n",
      "======Test dataset ====\n",
      "tf.Tensor([  1  11 977 ...   0   0   0], shape=(1885,), dtype=int32) tf.Tensor([1. 0.], shape=(2,), dtype=float32)\n"
     ]
    }
   ],
   "source": [
    "count =0\n",
    "print('======Train dataset ====')\n",
    "for value,label in train_ds:\n",
    "    count += 1\n",
    "    print(value,label)\n",
    "    if count==1:\n",
    "        break\n",
    "count =0\n",
    "print('======Validation dataset ====')\n",
    "for value,label in valid_ds:\n",
    "    count += 1\n",
    "    print(value,label)\n",
    "    if count==1:\n",
    "        break\n",
    "count =0\n",
    "print('======Test dataset ====')\n",
    "for value,label in test_ds:\n",
    "    count += 1\n",
    "    print(value,label)\n",
    "    if count==1:\n",
    "        break  "
   ]
  },
  {
   "cell_type": "markdown",
   "metadata": {},
   "source": [
    "## CNN Model Creation"
   ]
  },
  {
   "cell_type": "code",
   "execution_count": 61,
   "metadata": {},
   "outputs": [],
   "source": [
    "#Initialsing Parameters\n",
    "max_features = 1000\n",
    "embedding_dim = 64\n",
    "sequence_length = MAXLEN\n",
    "epochs = 100\n",
    "batch_size = 32"
   ]
  },
  {
   "cell_type": "code",
   "execution_count": 81,
   "metadata": {},
   "outputs": [],
   "source": [
    "model = tf.keras.Sequential()\n",
    "model.add(tf.keras.layers.Embedding(max_features+1, embedding_dim, input_length=sequence_length,\n",
    "                                    embeddings_regularizer = regularizers.l2(0.0005)))                                    \n",
    "\n",
    "model.add(tf.keras.layers.Conv1D(128,3, activation='relu',\n",
    "                                 kernel_regularizer = regularizers.l2(0.0005),\\\n",
    "                                 bias_regularizer = regularizers.l2(0.0005)))                               \n",
    "\n",
    "\n",
    "model.add(tf.keras.layers.GlobalMaxPooling1D())\n",
    "\n",
    "model.add(tf.keras.layers.Dropout(0.5))\n",
    "\n",
    "model.add(tf.keras.layers.Flatten())\n",
    "\n",
    "model.add(tf.keras.layers.Dense(2, activation='sigmoid',\n",
    "                                kernel_regularizer=regularizers.l2(0.001),\\\n",
    "                                bias_regularizer=regularizers.l2(0.001),))"
   ]
  },
  {
   "cell_type": "code",
   "execution_count": 82,
   "metadata": {},
   "outputs": [
    {
     "name": "stdout",
     "output_type": "stream",
     "text": [
      "Model: \"sequential_3\"\n",
      "_________________________________________________________________\n",
      "Layer (type)                 Output Shape              Param #   \n",
      "=================================================================\n",
      "embedding_3 (Embedding)      (None, 1885, 64)          64064     \n",
      "_________________________________________________________________\n",
      "conv1d_3 (Conv1D)            (None, 1883, 128)         24704     \n",
      "_________________________________________________________________\n",
      "global_max_pooling1d_3 (Glob (None, 128)               0         \n",
      "_________________________________________________________________\n",
      "dropout_3 (Dropout)          (None, 128)               0         \n",
      "_________________________________________________________________\n",
      "flatten_1 (Flatten)          (None, 128)               0         \n",
      "_________________________________________________________________\n",
      "dense_3 (Dense)              (None, 2)                 258       \n",
      "=================================================================\n",
      "Total params: 89,026\n",
      "Trainable params: 89,026\n",
      "Non-trainable params: 0\n",
      "_________________________________________________________________\n"
     ]
    }
   ],
   "source": [
    "model.summary()"
   ]
  },
  {
   "cell_type": "code",
   "execution_count": 83,
   "metadata": {},
   "outputs": [],
   "source": [
    "#creating callbacks - early stopping and storing best model checkpoint \n",
    "early_stopping = tf.keras.callbacks.EarlyStopping(monitor=\"val_categorical_accuracy\", patience=10)\n",
    "\n",
    "checkpoint_filepath = '/Users/sankeerthana/Documents/NTU/YEAR_4/CZ4045/Group_Assignment/NLP-text-classification-CNN/model/weights/try1_best_epoch{epoch}.hdf5'\n",
    "model_checkpoint = tf.keras.callbacks.ModelCheckpoint(\n",
    "    filepath=checkpoint_filepath,\n",
    "    monitor = 'val_categorical_accuracy',\n",
    "    save_best_only=True)"
   ]
  },
  {
   "cell_type": "code",
   "execution_count": 84,
   "metadata": {},
   "outputs": [],
   "source": [
    "#compiling the model\n",
    "model.compile(loss=tf.keras.losses.CategoricalCrossentropy(from_logits=True), optimizer='Nadam', metrics=[\"CategoricalAccuracy\"])\n"
   ]
  },
  {
   "cell_type": "markdown",
   "metadata": {},
   "source": [
    "## Training"
   ]
  },
  {
   "cell_type": "code",
   "execution_count": 85,
   "metadata": {},
   "outputs": [
    {
     "name": "stdout",
     "output_type": "stream",
     "text": [
      "Epoch 1/100\n"
     ]
    },
    {
     "name": "stderr",
     "output_type": "stream",
     "text": [
      "/Users/sankeerthana/miniforge3/envs/ml/lib/python3.9/site-packages/tensorflow/python/keras/backend.py:4882: UserWarning: \"`categorical_crossentropy` received `from_logits=True`, but the `output` argument was produced by a sigmoid or softmax activation and thus does not represent logits. Was this intended?\"\n",
      "  warnings.warn(\n",
      "2022-10-29 16:29:38.460209: I tensorflow/core/grappler/optimizers/custom_graph_optimizer_registry.cc:112] Plugin optimizer for device_type GPU is enabled.\n"
     ]
    },
    {
     "name": "stdout",
     "output_type": "stream",
     "text": [
      "13/13 [==============================] - 7s 425ms/step - loss: 0.7632 - categorical_accuracy: 0.5087 - val_loss: 0.7563 - val_categorical_accuracy: 0.6025\n"
     ]
    },
    {
     "name": "stderr",
     "output_type": "stream",
     "text": [
      "2022-10-29 16:29:44.686861: I tensorflow/core/grappler/optimizers/custom_graph_optimizer_registry.cc:112] Plugin optimizer for device_type GPU is enabled.\n"
     ]
    },
    {
     "name": "stdout",
     "output_type": "stream",
     "text": [
      "Epoch 2/100\n",
      "13/13 [==============================] - 6s 465ms/step - loss: 0.7494 - categorical_accuracy: 0.5631 - val_loss: 0.7466 - val_categorical_accuracy: 0.5550\n",
      "Epoch 3/100\n",
      "13/13 [==============================] - 6s 438ms/step - loss: 0.7356 - categorical_accuracy: 0.5975 - val_loss: 0.7375 - val_categorical_accuracy: 0.5250\n",
      "Epoch 4/100\n",
      "13/13 [==============================] - 6s 459ms/step - loss: 0.7229 - categorical_accuracy: 0.6337 - val_loss: 0.7274 - val_categorical_accuracy: 0.7425\n",
      "Epoch 5/100\n",
      "13/13 [==============================] - 7s 504ms/step - loss: 0.7104 - categorical_accuracy: 0.6700 - val_loss: 0.7156 - val_categorical_accuracy: 0.7225\n",
      "Epoch 6/100\n",
      "13/13 [==============================] - 6s 464ms/step - loss: 0.6933 - categorical_accuracy: 0.7225 - val_loss: 0.6998 - val_categorical_accuracy: 0.7325\n",
      "Epoch 7/100\n",
      "13/13 [==============================] - 6s 474ms/step - loss: 0.6667 - categorical_accuracy: 0.7506 - val_loss: 0.6752 - val_categorical_accuracy: 0.7450\n",
      "Epoch 8/100\n",
      "13/13 [==============================] - 6s 467ms/step - loss: 0.6312 - categorical_accuracy: 0.7856 - val_loss: 0.6400 - val_categorical_accuracy: 0.7425\n",
      "Epoch 9/100\n",
      "13/13 [==============================] - 6s 458ms/step - loss: 0.5981 - categorical_accuracy: 0.7619 - val_loss: 0.6073 - val_categorical_accuracy: 0.7550\n",
      "Epoch 10/100\n",
      "13/13 [==============================] - 5s 401ms/step - loss: 0.5607 - categorical_accuracy: 0.7819 - val_loss: 0.5859 - val_categorical_accuracy: 0.7575\n",
      "Epoch 11/100\n",
      "13/13 [==============================] - 3s 230ms/step - loss: 0.5425 - categorical_accuracy: 0.7756 - val_loss: 0.5745 - val_categorical_accuracy: 0.7550\n",
      "Epoch 12/100\n",
      "13/13 [==============================] - 2s 123ms/step - loss: 0.5146 - categorical_accuracy: 0.7969 - val_loss: 0.5667 - val_categorical_accuracy: 0.7550\n",
      "Epoch 13/100\n",
      "13/13 [==============================] - 2s 147ms/step - loss: 0.4972 - categorical_accuracy: 0.8075 - val_loss: 0.5505 - val_categorical_accuracy: 0.7550\n",
      "Epoch 14/100\n",
      "13/13 [==============================] - 1s 115ms/step - loss: 0.4826 - categorical_accuracy: 0.8256 - val_loss: 0.5409 - val_categorical_accuracy: 0.7725\n",
      "Epoch 15/100\n",
      "13/13 [==============================] - 1s 111ms/step - loss: 0.4637 - categorical_accuracy: 0.8244 - val_loss: 0.5402 - val_categorical_accuracy: 0.7600\n",
      "Epoch 16/100\n",
      "13/13 [==============================] - 2s 136ms/step - loss: 0.4576 - categorical_accuracy: 0.8344 - val_loss: 0.5305 - val_categorical_accuracy: 0.7750\n",
      "Epoch 17/100\n",
      "13/13 [==============================] - 2s 138ms/step - loss: 0.4357 - categorical_accuracy: 0.8594 - val_loss: 0.5264 - val_categorical_accuracy: 0.7750\n",
      "Epoch 18/100\n",
      "13/13 [==============================] - 2s 118ms/step - loss: 0.4234 - categorical_accuracy: 0.8575 - val_loss: 0.5268 - val_categorical_accuracy: 0.7800\n",
      "Epoch 19/100\n",
      "13/13 [==============================] - 1s 106ms/step - loss: 0.4147 - categorical_accuracy: 0.8737 - val_loss: 0.5364 - val_categorical_accuracy: 0.7700\n",
      "Epoch 20/100\n",
      "13/13 [==============================] - 1s 102ms/step - loss: 0.3979 - categorical_accuracy: 0.8794 - val_loss: 0.5210 - val_categorical_accuracy: 0.8025\n",
      "Epoch 21/100\n",
      "13/13 [==============================] - 1s 106ms/step - loss: 0.3815 - categorical_accuracy: 0.8925 - val_loss: 0.5214 - val_categorical_accuracy: 0.7875\n",
      "Epoch 22/100\n",
      "13/13 [==============================] - 1s 104ms/step - loss: 0.3628 - categorical_accuracy: 0.9006 - val_loss: 0.5238 - val_categorical_accuracy: 0.7850\n",
      "Epoch 23/100\n",
      "13/13 [==============================] - 1s 101ms/step - loss: 0.3429 - categorical_accuracy: 0.9200 - val_loss: 0.5239 - val_categorical_accuracy: 0.8025\n",
      "Epoch 24/100\n",
      "13/13 [==============================] - 1s 102ms/step - loss: 0.3295 - categorical_accuracy: 0.9337 - val_loss: 0.5304 - val_categorical_accuracy: 0.7975\n",
      "Epoch 25/100\n",
      "13/13 [==============================] - 1s 105ms/step - loss: 0.3242 - categorical_accuracy: 0.9375 - val_loss: 0.5279 - val_categorical_accuracy: 0.7950\n",
      "Epoch 26/100\n",
      "13/13 [==============================] - 1s 108ms/step - loss: 0.3001 - categorical_accuracy: 0.9512 - val_loss: 0.5344 - val_categorical_accuracy: 0.7975\n",
      "Epoch 27/100\n",
      "13/13 [==============================] - 1s 101ms/step - loss: 0.2915 - categorical_accuracy: 0.9550 - val_loss: 0.5392 - val_categorical_accuracy: 0.7950\n",
      "Epoch 28/100\n",
      "13/13 [==============================] - 1s 101ms/step - loss: 0.2756 - categorical_accuracy: 0.9569 - val_loss: 0.5589 - val_categorical_accuracy: 0.7850\n",
      "Epoch 29/100\n",
      "13/13 [==============================] - 1s 96ms/step - loss: 0.2684 - categorical_accuracy: 0.9663 - val_loss: 0.5589 - val_categorical_accuracy: 0.7900\n",
      "Epoch 30/100\n",
      "13/13 [==============================] - 1s 101ms/step - loss: 0.2710 - categorical_accuracy: 0.9625 - val_loss: 0.5659 - val_categorical_accuracy: 0.7975\n"
     ]
    }
   ],
   "source": [
    "history = model.fit(train_ds.shuffle(2000).batch(128),\n",
    "                    epochs=epochs ,\n",
    "                    validation_data=valid_ds.batch(128),\n",
    "                    verbose=1,\n",
    "                    callbacks=[early_stopping, model_checkpoint])\n",
    "\n",
    "model.save('/Users/sankeerthana/Documents/NTU/YEAR_4/CZ4045/Group_Assignment/NLP-text-classification-CNN/model/models/try1_final_model.h5')"
   ]
  },
  {
   "cell_type": "markdown",
   "metadata": {},
   "source": [
    "**Try 1**\n",
    "\n",
    "Model stopped at epoch 30 - with val_categorical_accuracy = 0.7975"
   ]
  },
  {
   "cell_type": "markdown",
   "metadata": {},
   "source": [
    "### Storing the History File - Future References"
   ]
  },
  {
   "cell_type": "code",
   "execution_count": 86,
   "metadata": {},
   "outputs": [],
   "source": [
    "with open('/Users/sankeerthana/Documents/NTU/YEAR_4/CZ4045/Group_Assignment/NLP-text-classification-CNN/model/history/try1_history.txt', 'w') as f:\n",
    "    f.writelines(str(history.history))"
   ]
  },
  {
   "cell_type": "markdown",
   "metadata": {},
   "source": [
    "### Saving Model Code"
   ]
  },
  {
   "cell_type": "code",
   "execution_count": 98,
   "metadata": {},
   "outputs": [],
   "source": [
    "model_code = [\"model = tf.keras.Sequential()\",\n",
    "\"model.add(tf.keras.layers.Embedding(max_features+1, embedding_dim, input_length=sequence_length, embeddings_regularizer = regularizers.l2(0.0005)))\", \n",
    "\"model.add(tf.keras.layers.Conv1D(128,3, activation='relu', kernel_regularizer = regularizers.l2(0.0005),bias_regularizer = regularizers.l2(0.0005))) \",                             \n",
    "\"model.add(tf.keras.layers.GlobalMaxPooling1D())\",\n",
    "\"model.add(tf.keras.layers.Dropout(0.5))\",\n",
    "\"model.add(tf.keras.layers.Flatten())\",\n",
    "\"model.add(tf.keras.layers.Dense(2, activation='sigmoid',kernel_regularizer=regularizers.l2(0.001),bias_regularizer=regularizers.l2(0.001),))\",\n",
    "\"model.compile(loss=tf.keras.losses.CategoricalCrossentropy(from_logits=True), optimizer='Nadam', metrics=['CategoricalAccuracy'])\"]"
   ]
  },
  {
   "cell_type": "code",
   "execution_count": 99,
   "metadata": {},
   "outputs": [],
   "source": [
    "with open('/Users/sankeerthana/Documents/NTU/YEAR_4/CZ4045/Group_Assignment/NLP-text-classification-CNN/model/models/try1_model_code.txt','w') as f:\n",
    "    f.writelines(str(model_code))"
   ]
  },
  {
   "cell_type": "markdown",
   "metadata": {},
   "source": [
    "## Performance Visualisation and Analysis"
   ]
  },
  {
   "cell_type": "markdown",
   "metadata": {},
   "source": [
    "### Accuracy Curves"
   ]
  },
  {
   "cell_type": "code",
   "execution_count": 95,
   "metadata": {},
   "outputs": [
    {
     "data": {
      "image/png": "[encoded data removed]",
      "text/plain": [
       "<Figure size 432x288 with 1 Axes>"
      ]
     },
     "metadata": {
      "needs_background": "light"
     },
     "output_type": "display_data"
    }
   ],
   "source": [
    "plt.plot(history.history['categorical_accuracy'], label='Training Accuracy')\n",
    "plt.plot(history.history['val_categorical_accuracy'], label='Validation Accuracy')\n",
    "plt.title('CategoricalAccuracy for Try1')\n",
    "plt.ylabel('CategoricalAccuracy value')\n",
    "plt.xlabel('Epoch Number')\n",
    "plt.legend(loc=\"lower right\")\n",
    "plt.savefig('/Users/sankeerthana/Documents/NTU/YEAR_4/CZ4045/Group_Assignment/NLP-text-classification-CNN/model/analysis/try1_acc.jpg')\n",
    "plt.show()"
   ]
  },
  {
   "cell_type": "markdown",
   "metadata": {},
   "source": [
    "### Loss Curves"
   ]
  },
  {
   "cell_type": "code",
   "execution_count": 96,
   "metadata": {},
   "outputs": [
    {
     "data": {
      "image/png": "[encoded data removed]",
      "text/plain": [
       "<Figure size 432x288 with 1 Axes>"
      ]
     },
     "metadata": {
      "needs_background": "light"
     },
     "output_type": "display_data"
    }
   ],
   "source": [
    "plt.plot(history.history['loss'], label=' Training Loss')\n",
    "plt.plot(history.history['val_loss'], label='Validation Loss)')\n",
    "plt.title('Loss for Try1')\n",
    "plt.ylabel('Loss value')\n",
    "plt.xlabel('Epoch Number')\n",
    "plt.legend(loc=\"lower left\")\n",
    "plt.savefig('/Users/sankeerthana/Documents/NTU/YEAR_4/CZ4045/Group_Assignment/NLP-text-classification-CNN/model/analysis/try1_loss.jpg')\n",
    "plt.show()"
   ]
  },
  {
   "cell_type": "markdown",
   "metadata": {},
   "source": [
    "## Inference on Test Set"
   ]
  },
  {
   "cell_type": "markdown",
   "metadata": {},
   "source": [
    "### Predictions"
   ]
  },
  {
   "cell_type": "code",
   "execution_count": 100,
   "metadata": {},
   "outputs": [
    {
     "name": "stdout",
     "output_type": "stream",
     "text": [
      "Generate predictions for all samples\n"
     ]
    },
    {
     "name": "stderr",
     "output_type": "stream",
     "text": [
      "2022-10-29 16:55:45.648656: I tensorflow/core/grappler/optimizers/custom_graph_optimizer_registry.cc:112] Plugin optimizer for device_type GPU is enabled.\n"
     ]
    },
    {
     "name": "stdout",
     "output_type": "stream",
     "text": [
      "[[0.514233   0.48245162]\n",
      " [0.61626524 0.31899962]\n",
      " [0.58064246 0.38637403]\n",
      " ...\n",
      " [0.54303014 0.44320345]\n",
      " [0.5551895  0.42817897]\n",
      " [0.38954753 0.5872405 ]]\n"
     ]
    }
   ],
   "source": [
    "print(\"Generate predictions for all samples\")\n",
    "predictions = model.predict(x_test)\n",
    "print(predictions)\n",
    "predict_results = predictions.argmax(axis=1)"
   ]
  },
  {
   "cell_type": "code",
   "execution_count": 119,
   "metadata": {},
   "outputs": [],
   "source": [
    "test_data['pred_sentiment'] = predict_results\n",
    "test_data['pred_sentiment'] = test_data['pred_sentiment'].replace({0 : 'neg', 1 : 'pos'})"
   ]
  },
  {
   "cell_type": "code",
   "execution_count": 120,
   "metadata": {},
   "outputs": [
    {
     "data": {
      "text/html": [
       "<div>\n",
       "<style scoped>\n",
       "    .dataframe tbody tr th:only-of-type {\n",
       "        vertical-align: middle;\n",
       "    }\n",
       "\n",
       "    .dataframe tbody tr th {\n",
       "        vertical-align: top;\n",
       "    }\n",
       "\n",
       "    .dataframe thead th {\n",
       "        text-align: right;\n",
       "    }\n",
       "</style>\n",
       "<table border=\"1\" class=\"dataframe\">\n",
       "  <thead>\n",
       "    <tr style=\"text-align: right;\">\n",
       "      <th></th>\n",
       "      <th>text</th>\n",
       "      <th>sentiment</th>\n",
       "      <th>pred_sentiment</th>\n",
       "    </tr>\n",
       "  </thead>\n",
       "  <tbody>\n",
       "    <tr>\n",
       "      <th>0</th>\n",
       "      <td>weaknesses are minor the feel and layout the r...</td>\n",
       "      <td>neg</td>\n",
       "      <td>neg</td>\n",
       "    </tr>\n",
       "    <tr>\n",
       "      <th>1</th>\n",
       "      <td>many our disney movies play this dvd player</td>\n",
       "      <td>neg</td>\n",
       "      <td>neg</td>\n",
       "    </tr>\n",
       "    <tr>\n",
       "      <th>2</th>\n",
       "      <td>player has problem with duallayer dvd such ali...</td>\n",
       "      <td>neg</td>\n",
       "      <td>neg</td>\n",
       "    </tr>\n",
       "    <tr>\n",
       "      <th>3</th>\n",
       "      <td>know the saying you get what you pay for but t...</td>\n",
       "      <td>neg</td>\n",
       "      <td>neg</td>\n",
       "    </tr>\n",
       "    <tr>\n",
       "      <th>4</th>\n",
       "      <td>will never purchase apex again</td>\n",
       "      <td>neg</td>\n",
       "      <td>neg</td>\n",
       "    </tr>\n",
       "    <tr>\n",
       "      <th>...</th>\n",
       "      <td>...</td>\n",
       "      <td>...</td>\n",
       "      <td>...</td>\n",
       "    </tr>\n",
       "    <tr>\n",
       "      <th>3766</th>\n",
       "      <td>installed activated and registered nis without...</td>\n",
       "      <td>pos</td>\n",
       "      <td>neg</td>\n",
       "    </tr>\n",
       "    <tr>\n",
       "      <th>3767</th>\n",
       "      <td>far the antispam feature seems very good</td>\n",
       "      <td>pos</td>\n",
       "      <td>pos</td>\n",
       "    </tr>\n",
       "    <tr>\n",
       "      <th>3768</th>\n",
       "      <td>downloaded trial version computer associates f...</td>\n",
       "      <td>pos</td>\n",
       "      <td>neg</td>\n",
       "    </tr>\n",
       "    <tr>\n",
       "      <th>3769</th>\n",
       "      <td>did not have any the installation problems tha...</td>\n",
       "      <td>pos</td>\n",
       "      <td>neg</td>\n",
       "    </tr>\n",
       "    <tr>\n",
       "      <th>3770</th>\n",
       "      <td>their products have been great and have saved ...</td>\n",
       "      <td>pos</td>\n",
       "      <td>pos</td>\n",
       "    </tr>\n",
       "  </tbody>\n",
       "</table>\n",
       "<p>3771 rows × 3 columns</p>\n",
       "</div>"
      ],
      "text/plain": [
       "                                                   text sentiment  \\\n",
       "0     weaknesses are minor the feel and layout the r...       neg   \n",
       "1           many our disney movies play this dvd player       neg   \n",
       "2     player has problem with duallayer dvd such ali...       neg   \n",
       "3     know the saying you get what you pay for but t...       neg   \n",
       "4                        will never purchase apex again       neg   \n",
       "...                                                 ...       ...   \n",
       "3766  installed activated and registered nis without...       pos   \n",
       "3767           far the antispam feature seems very good       pos   \n",
       "3768  downloaded trial version computer associates f...       pos   \n",
       "3769  did not have any the installation problems tha...       pos   \n",
       "3770  their products have been great and have saved ...       pos   \n",
       "\n",
       "     pred_sentiment  \n",
       "0               neg  \n",
       "1               neg  \n",
       "2               neg  \n",
       "3               neg  \n",
       "4               neg  \n",
       "...             ...  \n",
       "3766            neg  \n",
       "3767            pos  \n",
       "3768            neg  \n",
       "3769            neg  \n",
       "3770            pos  \n",
       "\n",
       "[3771 rows x 3 columns]"
      ]
     },
     "execution_count": 120,
     "metadata": {},
     "output_type": "execute_result"
    }
   ],
   "source": [
    "test_data"
   ]
  },
  {
   "cell_type": "markdown",
   "metadata": {},
   "source": [
    "### Score"
   ]
  },
  {
   "cell_type": "code",
   "execution_count": 147,
   "metadata": {},
   "outputs": [],
   "source": [
    "gt_label = test_data['sentiment']\n",
    "pred_label = test_data['pred_sentiment']"
   ]
  },
  {
   "cell_type": "code",
   "execution_count": 150,
   "metadata": {},
   "outputs": [
    {
     "name": "stdout",
     "output_type": "stream",
     "text": [
      "========= RESULT ==========\n",
      "Total : 3771\n",
      "Correct : 2106\n",
      "Wrong : 1665\n",
      "\n",
      "Accuracy : 55.847255369928405\n"
     ]
    }
   ],
   "source": [
    "correct = 0\n",
    "wrong = 0\n",
    "\n",
    "for i in range(len(gt_label)):\n",
    "    if gt_label[i] == pred_label[i]:\n",
    "        correct += 1\n",
    "    else:\n",
    "        wrong += 1\n",
    "\n",
    "print(\"========= RESULT ==========\")\n",
    "print(f\"Total : {len(gt_label)}\")\n",
    "print(f\"Correct : {correct}\")\n",
    "print(f\"Wrong : {wrong}\")\n",
    "\n",
    "print(\"\")\n",
    "\n",
    "print(f\"Accuracy : {(correct/len(gt_label))*100}\")"
   ]
  },
  {
   "cell_type": "markdown",
   "metadata": {},
   "source": [
    "Accuracy on Test Set is 55.85%"
   ]
  },
  {
   "cell_type": "code",
   "execution_count": 151,
   "metadata": {},
   "outputs": [
    {
     "name": "stdout",
     "output_type": "stream",
     "text": [
      "              precision    recall  f1-score   support\n",
      "\n",
      "         pos       0.82      0.40      0.53      2405\n",
      "         neg       0.44      0.84      0.58      1366\n",
      "\n",
      "    accuracy                           0.56      3771\n",
      "   macro avg       0.63      0.62      0.56      3771\n",
      "weighted avg       0.68      0.56      0.55      3771\n",
      "\n"
     ]
    }
   ],
   "source": [
    "val = ['pos','neg']\n",
    "    \n",
    "print(classification_report(test_data['sentiment'].tolist(),test_data['pred_sentiment'].tolist(),labels=val))"
   ]
  },
  {
   "cell_type": "code",
   "execution_count": null,
   "metadata": {},
   "outputs": [],
   "source": []
  }
 ],
 "metadata": {
  "kernelspec": {
   "display_name": "Python 3.9.7 ('ml')",
   "language": "python",
   "name": "python3"
  },
  "language_info": {
   "codemirror_mode": {
    "name": "ipython",
    "version": 3
   },
   "file_extension": ".py",
   "mimetype": "text/x-python",
   "name": "python",
   "nbconvert_exporter": "python",
   "pygments_lexer": "ipython3",
   "version": "3.9.7"
  },
  "orig_nbformat": 4,
  "vscode": {
   "interpreter": {
    "hash": "4fd9d67d0e9a41140145a4f72bf435aeee9c17c765bd40006482f4c6ff739f86"
   }
  }
 },
 "nbformat": 4,
 "nbformat_minor": 2
}
