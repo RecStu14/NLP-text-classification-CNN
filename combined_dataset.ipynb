{
 "cells": [
  {
   "cell_type": "markdown",
   "metadata": {},
   "source": [
    "# Training - Cornell Dataset"
   ]
  },
  {
   "cell_type": "markdown",
   "metadata": {},
   "source": [
    "## Imports"
   ]
  },
  {
   "cell_type": "code",
   "execution_count": 1,
   "metadata": {},
   "outputs": [],
   "source": [
    "from tensorflow.keras import regularizers, layers, losses, preprocessing\n",
    "from tensorflow.keras.callbacks import EarlyStopping, ModelCheckpoint\n",
    "from tensorflow.keras.preprocessing.sequence import pad_sequences\n",
    "from tensorflow.keras.preprocessing.text import Tokenizer\n",
    "from sklearn.model_selection import train_test_split\n",
    "from sklearn.metrics import classification_report\n",
    "from processing.helper_fxns import remove_url, clean_text\n",
    "from sklearn.preprocessing import LabelEncoder\n",
    "from collections import Counter\n",
    "import matplotlib.pyplot as plt\n",
    "import tensorflow as tf\n",
    "import seaborn as sb\n",
    "import pandas as pd\n",
    "import numpy as np\n",
    "import os, shutil\n",
    "import string\n",
    "import nltk\n",
    "import sys\n",
    "import re\n",
    "\n",
    "import pydot"
   ]
  },
  {
   "cell_type": "markdown",
   "metadata": {},
   "source": [
    "## Checking GPU"
   ]
  },
  {
   "cell_type": "code",
   "execution_count": 2,
   "metadata": {},
   "outputs": [
    {
     "name": "stdout",
     "output_type": "stream",
     "text": [
      "Metal device set to: Apple M1\n",
      "\n",
      "systemMemory: 16.00 GB\n",
      "maxCacheSize: 5.33 GB\n",
      "\n",
      "Default GPU Device: /device:GPU:0\n"
     ]
    },
    {
     "name": "stderr",
     "output_type": "stream",
     "text": [
      "2022-11-05 19:43:36.211093: I tensorflow/core/common_runtime/pluggable_device/pluggable_device_factory.cc:305] Could not identify NUMA node of platform GPU ID 0, defaulting to 0. Your kernel may not have been built with NUMA support.\n",
      "2022-11-05 19:43:36.211509: I tensorflow/core/common_runtime/pluggable_device/pluggable_device_factory.cc:271] Created TensorFlow device (/device:GPU:0 with 0 MB memory) -> physical PluggableDevice (device: 0, name: METAL, pci bus id: <undefined>)\n",
      "2022-11-05 19:43:36.213515: I tensorflow/core/common_runtime/pluggable_device/pluggable_device_factory.cc:305] Could not identify NUMA node of platform GPU ID 0, defaulting to 0. Your kernel may not have been built with NUMA support.\n",
      "2022-11-05 19:43:36.213531: I tensorflow/core/common_runtime/pluggable_device/pluggable_device_factory.cc:271] Created TensorFlow device (/device:GPU:0 with 0 MB memory) -> physical PluggableDevice (device: 0, name: METAL, pci bus id: <undefined>)\n"
     ]
    }
   ],
   "source": [
    "if tf.test.gpu_device_name():\n",
    "  print(\"Default GPU Device: {}\".format(tf.test.gpu_device_name()))\n",
    "else:\n",
    "  print('Please install GPU version of TF')"
   ]
  },
  {
   "cell_type": "markdown",
   "metadata": {},
   "source": [
    "## Loading the Datasets"
   ]
  },
  {
   "cell_type": "code",
   "execution_count": 3,
   "metadata": {},
   "outputs": [
    {
     "data": {
      "text/html": [
       "<div>\n",
       "<style scoped>\n",
       "    .dataframe tbody tr th:only-of-type {\n",
       "        vertical-align: middle;\n",
       "    }\n",
       "\n",
       "    .dataframe tbody tr th {\n",
       "        vertical-align: top;\n",
       "    }\n",
       "\n",
       "    .dataframe thead th {\n",
       "        text-align: right;\n",
       "    }\n",
       "</style>\n",
       "<table border=\"1\" class=\"dataframe\">\n",
       "  <thead>\n",
       "    <tr style=\"text-align: right;\">\n",
       "      <th></th>\n",
       "      <th>text</th>\n",
       "      <th>sentiment</th>\n",
       "    </tr>\n",
       "  </thead>\n",
       "  <tbody>\n",
       "    <tr>\n",
       "      <th>0</th>\n",
       "      <td>i am ever feeling nostalgic about the fireplac...</td>\n",
       "      <td>2</td>\n",
       "    </tr>\n",
       "    <tr>\n",
       "      <th>1</th>\n",
       "      <td>ive been taking or milligrams or times recomme...</td>\n",
       "      <td>2</td>\n",
       "    </tr>\n",
       "    <tr>\n",
       "      <th>2</th>\n",
       "      <td>i have been with petronas for years i feel tha...</td>\n",
       "      <td>2</td>\n",
       "    </tr>\n",
       "    <tr>\n",
       "      <th>3</th>\n",
       "      <td>i feel romantic too</td>\n",
       "      <td>2</td>\n",
       "    </tr>\n",
       "    <tr>\n",
       "      <th>4</th>\n",
       "      <td>i do feel that running is a divine experience ...</td>\n",
       "      <td>2</td>\n",
       "    </tr>\n",
       "  </tbody>\n",
       "</table>\n",
       "</div>"
      ],
      "text/plain": [
       "                                                text  sentiment\n",
       "0  i am ever feeling nostalgic about the fireplac...          2\n",
       "1  ive been taking or milligrams or times recomme...          2\n",
       "2  i have been with petronas for years i feel tha...          2\n",
       "3                                i feel romantic too          2\n",
       "4  i do feel that running is a divine experience ...          2"
      ]
     },
     "execution_count": 3,
     "metadata": {},
     "output_type": "execute_result"
    }
   ],
   "source": [
    "df = pd.read_csv('datasets/initial/final_training_set_emotion.csv')\n",
    "df.head()"
   ]
  },
  {
   "cell_type": "code",
   "execution_count": 4,
   "metadata": {},
   "outputs": [
    {
     "name": "stdout",
     "output_type": "stream",
     "text": [
      "(1000, 3)\n"
     ]
    },
    {
     "data": {
      "text/html": [
       "<div>\n",
       "<style scoped>\n",
       "    .dataframe tbody tr th:only-of-type {\n",
       "        vertical-align: middle;\n",
       "    }\n",
       "\n",
       "    .dataframe tbody tr th {\n",
       "        vertical-align: top;\n",
       "    }\n",
       "\n",
       "    .dataframe thead th {\n",
       "        text-align: right;\n",
       "    }\n",
       "</style>\n",
       "<table border=\"1\" class=\"dataframe\">\n",
       "  <thead>\n",
       "    <tr style=\"text-align: right;\">\n",
       "      <th></th>\n",
       "      <th>Unnamed: 0</th>\n",
       "      <th>title</th>\n",
       "      <th>verdict</th>\n",
       "    </tr>\n",
       "  </thead>\n",
       "  <tbody>\n",
       "    <tr>\n",
       "      <th>0</th>\n",
       "      <td>58</td>\n",
       "      <td>The difference between new and old padding in ...</td>\n",
       "      <td>1</td>\n",
       "    </tr>\n",
       "    <tr>\n",
       "      <th>1</th>\n",
       "      <td>310</td>\n",
       "      <td>me n my friend have vry sexual convos (will me...</td>\n",
       "      <td>1</td>\n",
       "    </tr>\n",
       "    <tr>\n",
       "      <th>2</th>\n",
       "      <td>207</td>\n",
       "      <td>Went for a dentist appointment for some pain a...</td>\n",
       "      <td>1</td>\n",
       "    </tr>\n",
       "    <tr>\n",
       "      <th>3</th>\n",
       "      <td>283</td>\n",
       "      <td>Why did I text someone again?</td>\n",
       "      <td>1</td>\n",
       "    </tr>\n",
       "    <tr>\n",
       "      <th>4</th>\n",
       "      <td>211</td>\n",
       "      <td>GUYS WE HAVE AN ACE CHARACTER AND HES A POC ð...</td>\n",
       "      <td>1</td>\n",
       "    </tr>\n",
       "  </tbody>\n",
       "</table>\n",
       "</div>"
      ],
      "text/plain": [
       "   Unnamed: 0                                              title  verdict\n",
       "0          58  The difference between new and old padding in ...        1\n",
       "1         310  me n my friend have vry sexual convos (will me...        1\n",
       "2         207  Went for a dentist appointment for some pain a...        1\n",
       "3         283                      Why did I text someone again?        1\n",
       "4         211  GUYS WE HAVE AN ACE CHARACTER AND HES A POC ð...        1"
      ]
     },
     "execution_count": 4,
     "metadata": {},
     "output_type": "execute_result"
    }
   ],
   "source": [
    "test_data = pd.read_csv('datasets/initial/combined.csv')\n",
    "print(test_data.shape)\n",
    "test_data.head()"
   ]
  },
  {
   "cell_type": "code",
   "execution_count": 5,
   "metadata": {},
   "outputs": [
    {
     "data": {
      "text/html": [
       "<div>\n",
       "<style scoped>\n",
       "    .dataframe tbody tr th:only-of-type {\n",
       "        vertical-align: middle;\n",
       "    }\n",
       "\n",
       "    .dataframe tbody tr th {\n",
       "        vertical-align: top;\n",
       "    }\n",
       "\n",
       "    .dataframe thead th {\n",
       "        text-align: right;\n",
       "    }\n",
       "</style>\n",
       "<table border=\"1\" class=\"dataframe\">\n",
       "  <thead>\n",
       "    <tr style=\"text-align: right;\">\n",
       "      <th></th>\n",
       "      <th>text</th>\n",
       "      <th>sentiment</th>\n",
       "    </tr>\n",
       "  </thead>\n",
       "  <tbody>\n",
       "    <tr>\n",
       "      <th>0</th>\n",
       "      <td>The difference between new and old padding in ...</td>\n",
       "      <td>1</td>\n",
       "    </tr>\n",
       "    <tr>\n",
       "      <th>1</th>\n",
       "      <td>me n my friend have vry sexual convos (will me...</td>\n",
       "      <td>1</td>\n",
       "    </tr>\n",
       "    <tr>\n",
       "      <th>2</th>\n",
       "      <td>Went for a dentist appointment for some pain a...</td>\n",
       "      <td>1</td>\n",
       "    </tr>\n",
       "    <tr>\n",
       "      <th>3</th>\n",
       "      <td>Why did I text someone again?</td>\n",
       "      <td>1</td>\n",
       "    </tr>\n",
       "    <tr>\n",
       "      <th>4</th>\n",
       "      <td>GUYS WE HAVE AN ACE CHARACTER AND HES A POC ð...</td>\n",
       "      <td>1</td>\n",
       "    </tr>\n",
       "  </tbody>\n",
       "</table>\n",
       "</div>"
      ],
      "text/plain": [
       "                                                text  sentiment\n",
       "0  The difference between new and old padding in ...          1\n",
       "1  me n my friend have vry sexual convos (will me...          1\n",
       "2  Went for a dentist appointment for some pain a...          1\n",
       "3                      Why did I text someone again?          1\n",
       "4  GUYS WE HAVE AN ACE CHARACTER AND HES A POC ð...          1"
      ]
     },
     "execution_count": 5,
     "metadata": {},
     "output_type": "execute_result"
    }
   ],
   "source": [
    "test_data.rename(columns={'title':'text', 'verdict':'sentiment'}, inplace=True)\n",
    "test_data.drop(['Unnamed: 0'], axis=1, inplace=True)\n",
    "test_data.head()"
   ]
  },
  {
   "cell_type": "markdown",
   "metadata": {},
   "source": [
    "## Preprocessing"
   ]
  },
  {
   "cell_type": "markdown",
   "metadata": {},
   "source": [
    "### Helper Functions to Remove URL and Clean Text\n",
    "\n",
    "Importing the remove_url and clean_text fucntions to remove any URL in the text and to remove punctuations in the text."
   ]
  },
  {
   "cell_type": "code",
   "execution_count": 6,
   "metadata": {},
   "outputs": [],
   "source": [
    "df['text'] = df['text'].apply(remove_url)\n",
    "df['text'] = df['text'].apply(clean_text)\n",
    "\n",
    "test_data['text'] = test_data['text'].apply(remove_url)\n",
    "test_data['text'] = test_data['text'].apply(clean_text)"
   ]
  },
  {
   "cell_type": "code",
   "execution_count": 7,
   "metadata": {},
   "outputs": [
    {
     "name": "stdout",
     "output_type": "stream",
     "text": [
      "Number of texts in each of the Classes in Training Set: \n"
     ]
    },
    {
     "data": {
      "text/plain": [
       "2    7000\n",
       "0    7000\n",
       "1    5000\n",
       "Name: sentiment, dtype: int64"
      ]
     },
     "execution_count": 7,
     "metadata": {},
     "output_type": "execute_result"
    }
   ],
   "source": [
    "print(\"Number of texts in each of the Classes in Training Set: \")\n",
    "df['sentiment'].value_counts()"
   ]
  },
  {
   "cell_type": "code",
   "execution_count": 8,
   "metadata": {},
   "outputs": [
    {
     "name": "stdout",
     "output_type": "stream",
     "text": [
      "Number of texts in each of the Classes in Test Set: \n"
     ]
    },
    {
     "data": {
      "text/plain": [
       "1    500\n",
       "2    250\n",
       "0    250\n",
       "Name: sentiment, dtype: int64"
      ]
     },
     "execution_count": 8,
     "metadata": {},
     "output_type": "execute_result"
    }
   ],
   "source": [
    "print(\"Number of texts in each of the Classes in Test Set: \")\n",
    "test_data['sentiment'].value_counts()"
   ]
  },
  {
   "cell_type": "markdown",
   "metadata": {},
   "source": [
    "## Tokenization\n",
    "\n",
    "Updates a list on vocabulary based on the text. It kind of creates its Vocabulary. This is important before converting texts into sequences. "
   ]
  },
  {
   "cell_type": "code",
   "execution_count": 9,
   "metadata": {},
   "outputs": [],
   "source": [
    "#Instantiating Tokenizer on Cornell and Crawled Dataset\n",
    "num_words = 1000\n",
    "\n",
    "tokenizer = Tokenizer(num_words=num_words,oov_token=\"unk\")\n",
    "tokenizer.fit_on_texts(df['text'].tolist())\n",
    "tokenizer.fit_on_texts(test_data['text'].tolist())"
   ]
  },
  {
   "cell_type": "markdown",
   "metadata": {},
   "source": [
    "### Splitting Training Sets into Different Splits"
   ]
  },
  {
   "cell_type": "code",
   "execution_count": 10,
   "metadata": {},
   "outputs": [],
   "source": [
    "NUM_TRAIN = int(0.8 * len(df))\n",
    "NUM_VALID = int(0.2 * len(df))"
   ]
  },
  {
   "cell_type": "code",
   "execution_count": 11,
   "metadata": {},
   "outputs": [
    {
     "name": "stdout",
     "output_type": "stream",
     "text": [
      "Length of dataset: 19000\n",
      "Length of Train: 15200\n",
      "Length of Valid: 3800\n",
      "Length of Test: 1000\n"
     ]
    }
   ],
   "source": [
    "#Prior to splitting\n",
    "print(f\"Length of dataset: {len(df)}\")\n",
    "print(f\"Length of Train: {NUM_TRAIN}\")\n",
    "print(f\"Length of Valid: {NUM_VALID}\")\n",
    "print(f\"Length of Test: {len(test_data)}\")"
   ]
  },
  {
   "cell_type": "code",
   "execution_count": 12,
   "metadata": {},
   "outputs": [],
   "source": [
    "#splitting into training and validation data\n",
    "X_train, X_valid, y_train, y_valid = train_test_split(df['text'].tolist(), \n",
    "                                                  df['sentiment'].tolist(), \n",
    "                                                  test_size=0.2, stratify=df['sentiment'].tolist(),\n",
    "                                                  random_state=0)"
   ]
  },
  {
   "cell_type": "code",
   "execution_count": 13,
   "metadata": {},
   "outputs": [],
   "source": [
    "X_test = test_data['text'].tolist()\n",
    "y_test = test_data['sentiment'].tolist()"
   ]
  },
  {
   "cell_type": "code",
   "execution_count": 14,
   "metadata": {},
   "outputs": [
    {
     "name": "stdout",
     "output_type": "stream",
     "text": [
      "Length of Train : 15200\n",
      "Length of Valid : 3800\n",
      "Length of Test : 1000\n"
     ]
    }
   ],
   "source": [
    "print(f\"Length of Train : {len(X_train)}\")\n",
    "print(f\"Length of Valid : {len(X_valid)}\")\n",
    "print(f\"Length of Test : {len(X_test)}\")"
   ]
  },
  {
   "cell_type": "code",
   "execution_count": 15,
   "metadata": {},
   "outputs": [
    {
     "name": "stdout",
     "output_type": "stream",
     "text": [
      "Class Distributions:\n",
      "Train: Counter({2: 5600, 0: 5600, 1: 4000})\n",
      "Valid: Counter({0: 1400, 2: 1400, 1: 1000})\n",
      "Test: Counter({1: 500, 2: 250, 0: 250})\n"
     ]
    }
   ],
   "source": [
    "#getting the class distribution\n",
    "print(\"Class Distributions:\")\n",
    "print(f\"Train: {str(Counter(y_train))}\")\n",
    "print(f\"Valid: {str(Counter(y_valid))}\")\n",
    "print(f\"Test: {str(Counter(y_test))}\")"
   ]
  },
  {
   "cell_type": "markdown",
   "metadata": {},
   "source": [
    "### Converting Texts to Sequences and Storing them in Arrays\n",
    "\n",
    "Assigning an index to each word in the text sample. Do note that for the Tokenization, 0 is not assigned to any word, it is instead assigned to any new/unknown word that is not present in the vocabulary."
   ]
  },
  {
   "cell_type": "code",
   "execution_count": 16,
   "metadata": {},
   "outputs": [
    {
     "name": "stderr",
     "output_type": "stream",
     "text": [
      "/var/folders/54/f2chvxk17fd0vhl03xl62d_80000gn/T/ipykernel_1326/3986626980.py:2: VisibleDeprecationWarning: Creating an ndarray from ragged nested sequences (which is a list-or-tuple of lists-or-tuples-or ndarrays with different lengths or shapes) is deprecated. If you meant to do this, you must specify 'dtype=object' when creating the ndarray.\n",
      "  x_train = np.array(tokenizer.texts_to_sequences(X_train))\n",
      "/var/folders/54/f2chvxk17fd0vhl03xl62d_80000gn/T/ipykernel_1326/3986626980.py:3: VisibleDeprecationWarning: Creating an ndarray from ragged nested sequences (which is a list-or-tuple of lists-or-tuples-or ndarrays with different lengths or shapes) is deprecated. If you meant to do this, you must specify 'dtype=object' when creating the ndarray.\n",
      "  x_valid = np.array(tokenizer.texts_to_sequences(X_valid))\n",
      "/var/folders/54/f2chvxk17fd0vhl03xl62d_80000gn/T/ipykernel_1326/3986626980.py:4: VisibleDeprecationWarning: Creating an ndarray from ragged nested sequences (which is a list-or-tuple of lists-or-tuples-or ndarrays with different lengths or shapes) is deprecated. If you meant to do this, you must specify 'dtype=object' when creating the ndarray.\n",
      "  x_test = np.array(tokenizer.texts_to_sequences(X_test))\n"
     ]
    }
   ],
   "source": [
    "#Converts the texts to sequences and stores it in an array\n",
    "x_train = np.array(tokenizer.texts_to_sequences(X_train))\n",
    "x_valid = np.array(tokenizer.texts_to_sequences(X_valid))\n",
    "x_test = np.array(tokenizer.texts_to_sequences(X_test))"
   ]
  },
  {
   "cell_type": "markdown",
   "metadata": {},
   "source": [
    "## Padding the Sequences"
   ]
  },
  {
   "cell_type": "markdown",
   "metadata": {},
   "source": [
    "### Finding the Longest Word Sequence\n",
    "\n",
    "This is important as this kind of defines what the shape of the input should be."
   ]
  },
  {
   "cell_type": "code",
   "execution_count": 17,
   "metadata": {},
   "outputs": [
    {
     "name": "stdout",
     "output_type": "stream",
     "text": [
      "Longest Sentence in terms of words in Train:  82\n",
      "Longest Sentence in terms of words in Valid:  66\n",
      "Longest Sentence in terms of words in Test:  43\n"
     ]
    }
   ],
   "source": [
    "#finding the longest word sequence\n",
    "train_num_words_text = pd.DataFrame(X_train, columns=['text'])['text'].apply(lambda x:len(str(x).split()))\n",
    "max_len_train = max(train_num_words_text)\n",
    "\n",
    "valid_num_words_text = pd.DataFrame(X_valid, columns=['text'])['text'].apply(lambda x:len(str(x).split()))\n",
    "max_len_valid = max(valid_num_words_text)\n",
    "\n",
    "test_num_words_text = pd.DataFrame(X_test, columns=['text'])['text'].apply(lambda x:len(str(x).split()))\n",
    "max_len_test = max(test_num_words_text)\n",
    "\n",
    "print('Longest Sentence in terms of words in Train: ', max_len_train)\n",
    "print('Longest Sentence in terms of words in Valid: ', max_len_valid)\n",
    "print('Longest Sentence in terms of words in Test: ', max_len_test)"
   ]
  },
  {
   "cell_type": "markdown",
   "metadata": {},
   "source": [
    "Therefore, in order to account for the all the splits, we set the shape of the input as 1885."
   ]
  },
  {
   "cell_type": "code",
   "execution_count": 18,
   "metadata": {},
   "outputs": [],
   "source": [
    "MAXLEN = 85"
   ]
  },
  {
   "cell_type": "code",
   "execution_count": 19,
   "metadata": {},
   "outputs": [],
   "source": [
    "x_train = pad_sequences(x_train, padding='post', maxlen=MAXLEN)\n",
    "x_valid = pad_sequences(x_valid, padding='post', maxlen=MAXLEN)\n",
    "x_test = pad_sequences(x_test, padding='post', maxlen=MAXLEN)"
   ]
  },
  {
   "cell_type": "code",
   "execution_count": 20,
   "metadata": {},
   "outputs": [
    {
     "data": {
      "text/plain": [
       "array([  6, 289,   7, 144,   2,   1,   1,  23,  22,   1,   1,  87,   2,\n",
       "       110, 176, 525,   1,   0,   0,   0,   0,   0,   0,   0,   0,   0,\n",
       "         0,   0,   0,   0,   0,   0,   0,   0,   0,   0,   0,   0,   0,\n",
       "         0,   0,   0,   0,   0,   0,   0,   0,   0,   0,   0,   0,   0,\n",
       "         0,   0,   0,   0,   0,   0,   0,   0,   0,   0,   0,   0,   0,\n",
       "         0,   0,   0,   0,   0,   0,   0,   0,   0,   0,   0,   0,   0,\n",
       "         0,   0,   0,   0,   0,   0,   0], dtype=int32)"
      ]
     },
     "execution_count": 20,
     "metadata": {},
     "output_type": "execute_result"
    }
   ],
   "source": [
    "x_train[0]"
   ]
  },
  {
   "cell_type": "markdown",
   "metadata": {},
   "source": [
    "In this section, we extended the list of the sequences to the MAXLEN, in order to standardise across te splits."
   ]
  },
  {
   "cell_type": "markdown",
   "metadata": {},
   "source": [
    "## Encoding the Labels"
   ]
  },
  {
   "cell_type": "code",
   "execution_count": 21,
   "metadata": {},
   "outputs": [],
   "source": [
    "#Instantiating the LabelEncoder\n",
    "le = LabelEncoder()"
   ]
  },
  {
   "cell_type": "code",
   "execution_count": 22,
   "metadata": {},
   "outputs": [],
   "source": [
    "#Encoding the train labels\n",
    "train_labels = le.fit_transform(y_train)\n",
    "valid_labels = le.transform(y_valid)\n",
    "test_labels = le.transform(y_test)\n",
    "\n",
    "#Converting the encoded train labels into categorical form and then storing them as an array\n",
    "train_labels = np.asarray( tf.keras.utils.to_categorical(train_labels))\n",
    "valid_labels = np.asarray( tf.keras.utils.to_categorical(valid_labels))\n",
    "test_labels = np.asarray(tf.keras.utils.to_categorical(test_labels))"
   ]
  },
  {
   "cell_type": "code",
   "execution_count": 23,
   "metadata": {},
   "outputs": [
    {
     "data": {
      "text/plain": [
       "[0, 1, 2]"
      ]
     },
     "execution_count": 23,
     "metadata": {},
     "output_type": "execute_result"
    }
   ],
   "source": [
    "#Listing out the classes\n",
    "list(le.classes_)"
   ]
  },
  {
   "cell_type": "markdown",
   "metadata": {},
   "source": [
    "0 - neg , 1 - neut, 2 - pos\n",
    "[neg neut pos]"
   ]
  },
  {
   "cell_type": "code",
   "execution_count": 24,
   "metadata": {},
   "outputs": [
    {
     "data": {
      "text/plain": [
       "array([[0., 1., 0.],\n",
       "       [0., 1., 0.],\n",
       "       [0., 1., 0.],\n",
       "       ...,\n",
       "       [1., 0., 0.],\n",
       "       [1., 0., 0.],\n",
       "       [1., 0., 0.]], dtype=float32)"
      ]
     },
     "execution_count": 24,
     "metadata": {},
     "output_type": "execute_result"
    }
   ],
   "source": [
    "test_labels"
   ]
  },
  {
   "cell_type": "markdown",
   "metadata": {},
   "source": [
    "## Creating our own Tensorflow Dataset"
   ]
  },
  {
   "cell_type": "code",
   "execution_count": 25,
   "metadata": {},
   "outputs": [
    {
     "name": "stderr",
     "output_type": "stream",
     "text": [
      "2022-11-05 19:43:55.608474: I tensorflow/core/common_runtime/pluggable_device/pluggable_device_factory.cc:305] Could not identify NUMA node of platform GPU ID 0, defaulting to 0. Your kernel may not have been built with NUMA support.\n",
      "2022-11-05 19:43:55.608499: I tensorflow/core/common_runtime/pluggable_device/pluggable_device_factory.cc:271] Created TensorFlow device (/job:localhost/replica:0/task:0/device:GPU:0 with 0 MB memory) -> physical PluggableDevice (device: 0, name: METAL, pci bus id: <undefined>)\n"
     ]
    }
   ],
   "source": [
    "train_ds = tf.data.Dataset.from_tensor_slices((x_train,train_labels))\n",
    "valid_ds = tf.data.Dataset.from_tensor_slices((x_valid,valid_labels))\n",
    "test_ds = tf.data.Dataset.from_tensor_slices((x_test,test_labels))"
   ]
  },
  {
   "cell_type": "code",
   "execution_count": 26,
   "metadata": {},
   "outputs": [
    {
     "name": "stdout",
     "output_type": "stream",
     "text": [
      "======Train dataset ====\n",
      "tf.Tensor(\n",
      "[  6 289   7 144   2   1   1  23  22   1   1  87   2 110 176 525   1   0\n",
      "   0   0   0   0   0   0   0   0   0   0   0   0   0   0   0   0   0   0\n",
      "   0   0   0   0   0   0   0   0   0   0   0   0   0   0   0   0   0   0\n",
      "   0   0   0   0   0   0   0   0   0   0   0   0   0   0   0   0   0   0\n",
      "   0   0   0   0   0   0   0   0   0   0   0   0   0], shape=(85,), dtype=int32) tf.Tensor([0. 0. 1.], shape=(3,), dtype=float32)\n",
      "======Validation dataset ====\n",
      "tf.Tensor(\n",
      "[  4 333  78 958 175 261 170   1   0   0   0   0   0   0   0   0   0   0\n",
      "   0   0   0   0   0   0   0   0   0   0   0   0   0   0   0   0   0   0\n",
      "   0   0   0   0   0   0   0   0   0   0   0   0   0   0   0   0   0   0\n",
      "   0   0   0   0   0   0   0   0   0   0   0   0   0   0   0   0   0   0\n",
      "   0   0   0   0   0   0   0   0   0   0   0   0   0], shape=(85,), dtype=int32) tf.Tensor([1. 0. 0.], shape=(3,), dtype=float32)\n",
      "======Test dataset ====\n",
      "tf.Tensor(\n",
      "[  2   1 195  75   3 138   1   1   1   0   0   0   0   0   0   0   0   0\n",
      "   0   0   0   0   0   0   0   0   0   0   0   0   0   0   0   0   0   0\n",
      "   0   0   0   0   0   0   0   0   0   0   0   0   0   0   0   0   0   0\n",
      "   0   0   0   0   0   0   0   0   0   0   0   0   0   0   0   0   0   0\n",
      "   0   0   0   0   0   0   0   0   0   0   0   0   0], shape=(85,), dtype=int32) tf.Tensor([0. 1. 0.], shape=(3,), dtype=float32)\n"
     ]
    }
   ],
   "source": [
    "count =0\n",
    "print('======Train dataset ====')\n",
    "for value,label in train_ds:\n",
    "    count += 1\n",
    "    print(value,label)\n",
    "    if count==1:\n",
    "        break\n",
    "count =0\n",
    "print('======Validation dataset ====')\n",
    "for value,label in valid_ds:\n",
    "    count += 1\n",
    "    print(value,label)\n",
    "    if count==1:\n",
    "        break\n",
    "count =0\n",
    "print('======Test dataset ====')\n",
    "for value,label in test_ds:\n",
    "    count += 1\n",
    "    print(value,label)\n",
    "    if count==1:\n",
    "        break  "
   ]
  },
  {
   "cell_type": "markdown",
   "metadata": {},
   "source": [
    "## CNN Model Creation"
   ]
  },
  {
   "cell_type": "code",
   "execution_count": 27,
   "metadata": {},
   "outputs": [],
   "source": [
    "#Initialsing Parameters\n",
    "max_features = 1000\n",
    "vocab_size = 1000\n",
    "embedding_dim = 64\n",
    "sequence_length = MAXLEN\n",
    "epochs = 100\n",
    "batch_size = 32\n",
    "filters = 32\n",
    "kernel_size = 3\n",
    "hidden_dims = 250\n",
    "#epochs = 10"
   ]
  },
  {
   "cell_type": "code",
   "execution_count": 28,
   "metadata": {},
   "outputs": [],
   "source": [
    "model = tf.keras.Sequential()\n",
    "\n",
    "model.add(tf.keras.layers.Embedding(max_features+1, embedding_dim, input_length=sequence_length, embeddings_regularizer = regularizers.l2(0.0005)))\n",
    "model.add(tf.keras.layers.Conv1D(128,3, activation='relu', kernel_regularizer = regularizers.l2(0.0005),bias_regularizer = regularizers.l2(0.0005)))\n",
    "model.add(tf.keras.layers.GlobalMaxPooling1D())\n",
    "model.add(tf.keras.layers.Dropout(0.5))\n",
    "model.add(tf.keras.layers.Flatten())\n",
    "model.add(tf.keras.layers.Dense(3, activation='softmax',kernel_regularizer=regularizers.l2(0.001),bias_regularizer=regularizers.l2(0.001),))\n",
    "model.compile(loss=tf.keras.losses.CategoricalCrossentropy(from_logits=True), optimizer='Nadam', metrics=['CategoricalAccuracy'])"
   ]
  },
  {
   "cell_type": "code",
   "execution_count": 29,
   "metadata": {},
   "outputs": [
    {
     "name": "stdout",
     "output_type": "stream",
     "text": [
      "Model: \"sequential\"\n",
      "_________________________________________________________________\n",
      "Layer (type)                 Output Shape              Param #   \n",
      "=================================================================\n",
      "embedding (Embedding)        (None, 85, 64)            64064     \n",
      "_________________________________________________________________\n",
      "conv1d (Conv1D)              (None, 83, 128)           24704     \n",
      "_________________________________________________________________\n",
      "global_max_pooling1d (Global (None, 128)               0         \n",
      "_________________________________________________________________\n",
      "dropout (Dropout)            (None, 128)               0         \n",
      "_________________________________________________________________\n",
      "flatten (Flatten)            (None, 128)               0         \n",
      "_________________________________________________________________\n",
      "dense (Dense)                (None, 3)                 387       \n",
      "=================================================================\n",
      "Total params: 89,155\n",
      "Trainable params: 89,155\n",
      "Non-trainable params: 0\n",
      "_________________________________________________________________\n"
     ]
    }
   ],
   "source": [
    "model.summary()"
   ]
  },
  {
   "cell_type": "code",
   "execution_count": 30,
   "metadata": {},
   "outputs": [],
   "source": [
    "#creating callbacks - early stopping and storing best model checkpoint \n",
    "early_stopping = tf.keras.callbacks.EarlyStopping(monitor=\"val_categorical_accuracy\", patience=10)\n",
    "\n",
    "checkpoint_filepath = '/Users/sankeerthana/Documents/NTU/YEAR_4/CZ4045/Group_Assignment/NLP-text-classification-CNN/model/weights/emotion_try2_best_epoch{epoch}.hdf5'\n",
    "model_checkpoint = tf.keras.callbacks.ModelCheckpoint(\n",
    "    filepath=checkpoint_filepath,\n",
    "    monitor = 'val_categorical_accuracy',\n",
    "    save_best_only=True)"
   ]
  },
  {
   "cell_type": "code",
   "execution_count": 31,
   "metadata": {},
   "outputs": [],
   "source": [
    "#compiling the model\n",
    "model.compile(loss=tf.keras.losses.CategoricalCrossentropy(from_logits=True), optimizer='Nadam', metrics=[\"CategoricalAccuracy\"])\n"
   ]
  },
  {
   "cell_type": "markdown",
   "metadata": {},
   "source": [
    "## Training"
   ]
  },
  {
   "cell_type": "code",
   "execution_count": 32,
   "metadata": {},
   "outputs": [
    {
     "name": "stdout",
     "output_type": "stream",
     "text": [
      "Epoch 1/100\n"
     ]
    },
    {
     "name": "stderr",
     "output_type": "stream",
     "text": [
      "/Users/sankeerthana/miniforge3/envs/ml/lib/python3.9/site-packages/tensorflow/python/keras/backend.py:4882: UserWarning: \"`categorical_crossentropy` received `from_logits=True`, but the `output` argument was produced by a sigmoid or softmax activation and thus does not represent logits. Was this intended?\"\n",
      "  warnings.warn(\n",
      "2022-11-05 19:44:46.867380: W tensorflow/core/platform/profile_utils/cpu_utils.cc:128] Failed to get CPU frequency: 0 Hz\n",
      "2022-11-05 19:44:46.867925: I tensorflow/core/grappler/optimizers/custom_graph_optimizer_registry.cc:112] Plugin optimizer for device_type GPU is enabled.\n"
     ]
    },
    {
     "name": "stdout",
     "output_type": "stream",
     "text": [
      "119/119 [==============================] - ETA: 0s - loss: 0.8218 - categorical_accuracy: 0.6255"
     ]
    },
    {
     "name": "stderr",
     "output_type": "stream",
     "text": [
      "2022-11-05 19:44:52.830385: I tensorflow/core/grappler/optimizers/custom_graph_optimizer_registry.cc:112] Plugin optimizer for device_type GPU is enabled.\n"
     ]
    },
    {
     "name": "stdout",
     "output_type": "stream",
     "text": [
      "119/119 [==============================] - 7s 47ms/step - loss: 0.8218 - categorical_accuracy: 0.6255 - val_loss: 0.4649 - val_categorical_accuracy: 0.8595\n",
      "Epoch 2/100\n",
      "119/119 [==============================] - 3s 22ms/step - loss: 0.3665 - categorical_accuracy: 0.8979 - val_loss: 0.2879 - val_categorical_accuracy: 0.9229\n",
      "Epoch 3/100\n",
      "119/119 [==============================] - 3s 21ms/step - loss: 0.2867 - categorical_accuracy: 0.9249 - val_loss: 0.2636 - val_categorical_accuracy: 0.9326\n",
      "Epoch 4/100\n",
      "119/119 [==============================] - 2s 19ms/step - loss: 0.2700 - categorical_accuracy: 0.9307 - val_loss: 0.2582 - val_categorical_accuracy: 0.9295\n",
      "Epoch 5/100\n",
      "119/119 [==============================] - 2s 18ms/step - loss: 0.2603 - categorical_accuracy: 0.9322 - val_loss: 0.2530 - val_categorical_accuracy: 0.9313\n",
      "Epoch 6/100\n",
      "119/119 [==============================] - 2s 18ms/step - loss: 0.2565 - categorical_accuracy: 0.9355 - val_loss: 0.2516 - val_categorical_accuracy: 0.9324\n",
      "Epoch 7/100\n",
      "119/119 [==============================] - 2s 17ms/step - loss: 0.2467 - categorical_accuracy: 0.9375 - val_loss: 0.2494 - val_categorical_accuracy: 0.9308\n",
      "Epoch 8/100\n",
      "119/119 [==============================] - 2s 18ms/step - loss: 0.2456 - categorical_accuracy: 0.9379 - val_loss: 0.2497 - val_categorical_accuracy: 0.9308\n",
      "Epoch 9/100\n",
      "119/119 [==============================] - 2s 18ms/step - loss: 0.2432 - categorical_accuracy: 0.9382 - val_loss: 0.2485 - val_categorical_accuracy: 0.9316\n",
      "Epoch 10/100\n",
      "119/119 [==============================] - 2s 18ms/step - loss: 0.2394 - categorical_accuracy: 0.9405 - val_loss: 0.2501 - val_categorical_accuracy: 0.9287\n",
      "Epoch 11/100\n",
      "119/119 [==============================] - 2s 17ms/step - loss: 0.2376 - categorical_accuracy: 0.9425 - val_loss: 0.2494 - val_categorical_accuracy: 0.9297\n",
      "Epoch 12/100\n",
      "119/119 [==============================] - 2s 17ms/step - loss: 0.2367 - categorical_accuracy: 0.9405 - val_loss: 0.2485 - val_categorical_accuracy: 0.9321\n",
      "Epoch 13/100\n",
      "119/119 [==============================] - 2s 17ms/step - loss: 0.2334 - categorical_accuracy: 0.9420 - val_loss: 0.2486 - val_categorical_accuracy: 0.9329\n",
      "Epoch 14/100\n",
      "119/119 [==============================] - 2s 19ms/step - loss: 0.2329 - categorical_accuracy: 0.9430 - val_loss: 0.2506 - val_categorical_accuracy: 0.9316\n",
      "Epoch 15/100\n",
      "119/119 [==============================] - 2s 18ms/step - loss: 0.2347 - categorical_accuracy: 0.9430 - val_loss: 0.2496 - val_categorical_accuracy: 0.9326\n",
      "Epoch 16/100\n",
      "119/119 [==============================] - 2s 18ms/step - loss: 0.2292 - categorical_accuracy: 0.9457 - val_loss: 0.2498 - val_categorical_accuracy: 0.9326\n",
      "Epoch 17/100\n",
      "119/119 [==============================] - 2s 17ms/step - loss: 0.2298 - categorical_accuracy: 0.9468 - val_loss: 0.2504 - val_categorical_accuracy: 0.9326\n",
      "Epoch 18/100\n",
      "119/119 [==============================] - 2s 17ms/step - loss: 0.2305 - categorical_accuracy: 0.9457 - val_loss: 0.2500 - val_categorical_accuracy: 0.9326\n",
      "Epoch 19/100\n",
      "119/119 [==============================] - 2s 17ms/step - loss: 0.2242 - categorical_accuracy: 0.9493 - val_loss: 0.2513 - val_categorical_accuracy: 0.9324\n",
      "Epoch 20/100\n",
      "119/119 [==============================] - 2s 18ms/step - loss: 0.2260 - categorical_accuracy: 0.9479 - val_loss: 0.2526 - val_categorical_accuracy: 0.9324\n",
      "Epoch 21/100\n",
      "119/119 [==============================] - 2s 17ms/step - loss: 0.2269 - categorical_accuracy: 0.9474 - val_loss: 0.2510 - val_categorical_accuracy: 0.9345\n",
      "Epoch 22/100\n",
      "119/119 [==============================] - 2s 17ms/step - loss: 0.2275 - categorical_accuracy: 0.9468 - val_loss: 0.2555 - val_categorical_accuracy: 0.9287\n",
      "Epoch 23/100\n",
      "119/119 [==============================] - 2s 17ms/step - loss: 0.2250 - categorical_accuracy: 0.9492 - val_loss: 0.2560 - val_categorical_accuracy: 0.9303\n",
      "Epoch 24/100\n",
      "119/119 [==============================] - 2s 17ms/step - loss: 0.2262 - categorical_accuracy: 0.9504 - val_loss: 0.2528 - val_categorical_accuracy: 0.9324\n",
      "Epoch 25/100\n",
      "119/119 [==============================] - 2s 17ms/step - loss: 0.2244 - categorical_accuracy: 0.9512 - val_loss: 0.2559 - val_categorical_accuracy: 0.9316\n",
      "Epoch 26/100\n",
      "119/119 [==============================] - 2s 17ms/step - loss: 0.2238 - categorical_accuracy: 0.9514 - val_loss: 0.2569 - val_categorical_accuracy: 0.9313\n",
      "Epoch 27/100\n",
      "119/119 [==============================] - 2s 17ms/step - loss: 0.2220 - categorical_accuracy: 0.9511 - val_loss: 0.2580 - val_categorical_accuracy: 0.9321\n",
      "Epoch 28/100\n",
      "119/119 [==============================] - 2s 16ms/step - loss: 0.2224 - categorical_accuracy: 0.9509 - val_loss: 0.2559 - val_categorical_accuracy: 0.9313\n",
      "Epoch 29/100\n",
      "119/119 [==============================] - 2s 17ms/step - loss: 0.2212 - categorical_accuracy: 0.9520 - val_loss: 0.2569 - val_categorical_accuracy: 0.9300\n",
      "Epoch 30/100\n",
      "119/119 [==============================] - 2s 17ms/step - loss: 0.2240 - categorical_accuracy: 0.9524 - val_loss: 0.2574 - val_categorical_accuracy: 0.9326\n",
      "Epoch 31/100\n",
      "119/119 [==============================] - 2s 17ms/step - loss: 0.2205 - categorical_accuracy: 0.9533 - val_loss: 0.2570 - val_categorical_accuracy: 0.9316\n"
     ]
    }
   ],
   "source": [
    "history = model.fit(train_ds.shuffle(1000).batch(128),\n",
    "                    epochs=epochs ,\n",
    "                    validation_data=valid_ds.batch(128),\n",
    "                    verbose=1,\n",
    "                    callbacks=[early_stopping, model_checkpoint])\n",
    "model.save('/Users/sankeerthana/Documents/NTU/YEAR_4/CZ4045/Group_Assignment/NLP-text-classification-CNN/model/models/emotion_try2_final_model.h5')"
   ]
  },
  {
   "cell_type": "markdown",
   "metadata": {},
   "source": [
    "**Try 1**\n",
    "\n",
    "Model stopped at epoch 30 - with val_categorical_accuracy = 0.7975"
   ]
  },
  {
   "cell_type": "markdown",
   "metadata": {},
   "source": [
    "### Storing the History File - Future References"
   ]
  },
  {
   "cell_type": "code",
   "execution_count": 33,
   "metadata": {},
   "outputs": [],
   "source": [
    "with open('/Users/sankeerthana/Documents/NTU/YEAR_4/CZ4045/Group_Assignment/NLP-text-classification-CNN/model/history/emotion_try2_history.txt', 'w') as f:\n",
    "    f.writelines(str(history.history))"
   ]
  },
  {
   "cell_type": "markdown",
   "metadata": {},
   "source": [
    "### Saving Model Code"
   ]
  },
  {
   "cell_type": "code",
   "execution_count": 98,
   "metadata": {},
   "outputs": [],
   "source": [
    "model_code = [\"model = tf.keras.Sequential()\",\n",
    "\"model.add(tf.keras.layers.Embedding(max_features+1, embedding_dim, input_length=sequence_length, embeddings_regularizer = regularizers.l2(0.0005)))\", \n",
    "\"model.add(tf.keras.layers.Conv1D(128,3, activation='relu', kernel_regularizer = regularizers.l2(0.0005),bias_regularizer = regularizers.l2(0.0005))) \",                             \n",
    "\"model.add(tf.keras.layers.GlobalMaxPooling1D())\",\n",
    "\"model.add(tf.keras.layers.Dropout(0.5))\",\n",
    "\"model.add(tf.keras.layers.Flatten())\",\n",
    "\"model.add(tf.keras.layers.Dense(2, activation='sigmoid',kernel_regularizer=regularizers.l2(0.001),bias_regularizer=regularizers.l2(0.001),))\",\n",
    "\"model.compile(loss=tf.keras.losses.CategoricalCrossentropy(from_logits=True), optimizer='Nadam', metrics=['CategoricalAccuracy'])\"]"
   ]
  },
  {
   "cell_type": "code",
   "execution_count": 99,
   "metadata": {},
   "outputs": [],
   "source": [
    "with open('/Users/sankeerthana/Documents/NTU/YEAR_4/CZ4045/Group_Assignment/NLP-text-classification-CNN/model/models/try1_model_code.txt','w') as f:\n",
    "    f.writelines(str(model_code))"
   ]
  },
  {
   "cell_type": "markdown",
   "metadata": {},
   "source": [
    "## Performance Visualisation and Analysis"
   ]
  },
  {
   "cell_type": "markdown",
   "metadata": {},
   "source": [
    "### Accuracy Curves"
   ]
  },
  {
   "cell_type": "code",
   "execution_count": 34,
   "metadata": {},
   "outputs": [
    {
     "data": {
      "image/png": "[encoded data removed]",
      "text/plain": [
       "<Figure size 432x288 with 1 Axes>"
      ]
     },
     "metadata": {
      "needs_background": "light"
     },
     "output_type": "display_data"
    }
   ],
   "source": [
    "plt.plot(history.history['categorical_accuracy'], label='Training Accuracy')\n",
    "plt.plot(history.history['val_categorical_accuracy'], label='Validation Accuracy')\n",
    "plt.title('CategoricalAccuracy for Try1')\n",
    "plt.ylabel('CategoricalAccuracy value')\n",
    "plt.xlabel('Epoch Number')\n",
    "plt.legend(loc=\"lower right\")\n",
    "plt.savefig('/Users/sankeerthana/Documents/NTU/YEAR_4/CZ4045/Group_Assignment/NLP-text-classification-CNN/model/analysis/emotion_try2__acc.jpg')\n",
    "plt.show()"
   ]
  },
  {
   "cell_type": "markdown",
   "metadata": {},
   "source": [
    "### Loss Curves"
   ]
  },
  {
   "cell_type": "code",
   "execution_count": 35,
   "metadata": {},
   "outputs": [
    {
     "data": {
      "image/png": "[encoded data removed]",
      "text/plain": [
       "<Figure size 432x288 with 1 Axes>"
      ]
     },
     "metadata": {
      "needs_background": "light"
     },
     "output_type": "display_data"
    }
   ],
   "source": [
    "plt.plot(history.history['loss'], label=' Training Loss')\n",
    "plt.plot(history.history['val_loss'], label='Validation Loss)')\n",
    "plt.title('Loss for Try1')\n",
    "plt.ylabel('Loss value')\n",
    "plt.xlabel('Epoch Number')\n",
    "plt.legend(loc=\"lower left\")\n",
    "plt.savefig('/Users/sankeerthana/Documents/NTU/YEAR_4/CZ4045/Group_Assignment/NLP-text-classification-CNN/model/analysis/combined_data_try2_loss.jpg')\n",
    "plt.show()"
   ]
  },
  {
   "cell_type": "markdown",
   "metadata": {},
   "source": [
    "## Inference on Test Set"
   ]
  },
  {
   "cell_type": "markdown",
   "metadata": {},
   "source": [
    "### Predictions"
   ]
  },
  {
   "cell_type": "code",
   "execution_count": 36,
   "metadata": {},
   "outputs": [
    {
     "name": "stdout",
     "output_type": "stream",
     "text": [
      "Generate predictions for all samples\n",
      "[[1.5771840e-02 9.7490883e-01 9.3193306e-03]\n",
      " [1.2894457e-02 9.7791171e-01 9.1938199e-03]\n",
      " [1.8156052e-01 5.9273833e-01 2.2570115e-01]\n",
      " ...\n",
      " [8.1199251e-02 7.7769178e-01 1.4110899e-01]\n",
      " [1.0564208e-02 3.0778049e-04 9.8912805e-01]\n",
      " [7.2350425e-01 4.1810900e-04 2.7607769e-01]]\n"
     ]
    },
    {
     "name": "stderr",
     "output_type": "stream",
     "text": [
      "2022-11-05 19:47:45.177870: I tensorflow/core/grappler/optimizers/custom_graph_optimizer_registry.cc:112] Plugin optimizer for device_type GPU is enabled.\n"
     ]
    }
   ],
   "source": [
    "print(\"Generate predictions for all samples\")\n",
    "predictions = model.predict(x_test)\n",
    "print(predictions)\n",
    "predict_results = predictions.argmax(axis=1)"
   ]
  },
  {
   "cell_type": "code",
   "execution_count": 37,
   "metadata": {},
   "outputs": [],
   "source": [
    "test_data['pred_sentiment'] = predict_results"
   ]
  },
  {
   "cell_type": "code",
   "execution_count": 38,
   "metadata": {},
   "outputs": [
    {
     "data": {
      "text/html": [
       "<div>\n",
       "<style scoped>\n",
       "    .dataframe tbody tr th:only-of-type {\n",
       "        vertical-align: middle;\n",
       "    }\n",
       "\n",
       "    .dataframe tbody tr th {\n",
       "        vertical-align: top;\n",
       "    }\n",
       "\n",
       "    .dataframe thead th {\n",
       "        text-align: right;\n",
       "    }\n",
       "</style>\n",
       "<table border=\"1\" class=\"dataframe\">\n",
       "  <thead>\n",
       "    <tr style=\"text-align: right;\">\n",
       "      <th></th>\n",
       "      <th>text</th>\n",
       "      <th>sentiment</th>\n",
       "      <th>pred_sentiment</th>\n",
       "    </tr>\n",
       "  </thead>\n",
       "  <tbody>\n",
       "    <tr>\n",
       "      <th>0</th>\n",
       "      <td>the difference between new and old padding bus...</td>\n",
       "      <td>1</td>\n",
       "      <td>1</td>\n",
       "    </tr>\n",
       "    <tr>\n",
       "      <th>1</th>\n",
       "      <td>friend have vry sexual convos will mention the...</td>\n",
       "      <td>1</td>\n",
       "      <td>1</td>\n",
       "    </tr>\n",
       "    <tr>\n",
       "      <th>2</th>\n",
       "      <td>went for dentist appointment for some pain aft...</td>\n",
       "      <td>1</td>\n",
       "      <td>1</td>\n",
       "    </tr>\n",
       "    <tr>\n",
       "      <th>3</th>\n",
       "      <td>why did text someone again</td>\n",
       "      <td>1</td>\n",
       "      <td>1</td>\n",
       "    </tr>\n",
       "    <tr>\n",
       "      <th>4</th>\n",
       "      <td>guys have ace character and hes poc ððð...</td>\n",
       "      <td>1</td>\n",
       "      <td>1</td>\n",
       "    </tr>\n",
       "    <tr>\n",
       "      <th>...</th>\n",
       "      <td>...</td>\n",
       "      <td>...</td>\n",
       "      <td>...</td>\n",
       "    </tr>\n",
       "    <tr>\n",
       "      <th>995</th>\n",
       "      <td>math makes suicidal</td>\n",
       "      <td>0</td>\n",
       "      <td>1</td>\n",
       "    </tr>\n",
       "    <tr>\n",
       "      <th>996</th>\n",
       "      <td>lesbian but too afraid tell anyone</td>\n",
       "      <td>0</td>\n",
       "      <td>0</td>\n",
       "    </tr>\n",
       "    <tr>\n",
       "      <th>997</th>\n",
       "      <td>not enough and dont think that ever will</td>\n",
       "      <td>0</td>\n",
       "      <td>1</td>\n",
       "    </tr>\n",
       "    <tr>\n",
       "      <th>998</th>\n",
       "      <td>who was adult when was senior high school conv...</td>\n",
       "      <td>0</td>\n",
       "      <td>2</td>\n",
       "    </tr>\n",
       "    <tr>\n",
       "      <th>999</th>\n",
       "      <td>ive been writing down all depressive thoughts ...</td>\n",
       "      <td>0</td>\n",
       "      <td>0</td>\n",
       "    </tr>\n",
       "  </tbody>\n",
       "</table>\n",
       "<p>1000 rows × 3 columns</p>\n",
       "</div>"
      ],
      "text/plain": [
       "                                                  text  sentiment  \\\n",
       "0    the difference between new and old padding bus...          1   \n",
       "1    friend have vry sexual convos will mention the...          1   \n",
       "2    went for dentist appointment for some pain aft...          1   \n",
       "3                           why did text someone again          1   \n",
       "4    guys have ace character and hes poc ððð...          1   \n",
       "..                                                 ...        ...   \n",
       "995                                math makes suicidal          0   \n",
       "996                 lesbian but too afraid tell anyone          0   \n",
       "997           not enough and dont think that ever will          0   \n",
       "998  who was adult when was senior high school conv...          0   \n",
       "999  ive been writing down all depressive thoughts ...          0   \n",
       "\n",
       "     pred_sentiment  \n",
       "0                 1  \n",
       "1                 1  \n",
       "2                 1  \n",
       "3                 1  \n",
       "4                 1  \n",
       "..              ...  \n",
       "995               1  \n",
       "996               0  \n",
       "997               1  \n",
       "998               2  \n",
       "999               0  \n",
       "\n",
       "[1000 rows x 3 columns]"
      ]
     },
     "execution_count": 38,
     "metadata": {},
     "output_type": "execute_result"
    }
   ],
   "source": [
    "test_data"
   ]
  },
  {
   "cell_type": "markdown",
   "metadata": {},
   "source": [
    "### Score"
   ]
  },
  {
   "cell_type": "code",
   "execution_count": 39,
   "metadata": {},
   "outputs": [],
   "source": [
    "gt_label = test_data['sentiment']\n",
    "pred_label = test_data['pred_sentiment']"
   ]
  },
  {
   "cell_type": "code",
   "execution_count": 40,
   "metadata": {},
   "outputs": [
    {
     "name": "stdout",
     "output_type": "stream",
     "text": [
      "========= RESULT ==========\n",
      "Total : 1000\n",
      "Correct : 538\n",
      "Wrong : 462\n",
      "\n",
      "Accuracy : 53.800000000000004\n"
     ]
    }
   ],
   "source": [
    "correct = 0\n",
    "wrong = 0\n",
    "\n",
    "for i in range(len(gt_label)):\n",
    "    if gt_label[i] == pred_label[i]:\n",
    "        correct += 1\n",
    "    else:\n",
    "        wrong += 1\n",
    "\n",
    "print(\"========= RESULT ==========\")\n",
    "print(f\"Total : {len(gt_label)}\")\n",
    "print(f\"Correct : {correct}\")\n",
    "print(f\"Wrong : {wrong}\")\n",
    "\n",
    "print(\"\")\n",
    "\n",
    "print(f\"Accuracy : {(correct/len(gt_label))*100}\")"
   ]
  },
  {
   "cell_type": "markdown",
   "metadata": {},
   "source": [
    "Accuracy on Test Set is 55.85%"
   ]
  },
  {
   "cell_type": "code",
   "execution_count": 41,
   "metadata": {},
   "outputs": [
    {
     "name": "stdout",
     "output_type": "stream",
     "text": [
      "              precision    recall  f1-score   support\n",
      "\n",
      "           0       0.76      0.18      0.29       250\n",
      "           1       0.53      0.97      0.68       500\n",
      "           2       0.37      0.04      0.07       250\n",
      "\n",
      "    accuracy                           0.54      1000\n",
      "   macro avg       0.55      0.39      0.35      1000\n",
      "weighted avg       0.55      0.54      0.43      1000\n",
      "\n"
     ]
    }
   ],
   "source": [
    "val = [0, 1, 2]\n",
    "    \n",
    "print(classification_report(test_data['sentiment'].tolist(),test_data['pred_sentiment'].tolist(),labels=val))"
   ]
  },
  {
   "cell_type": "code",
   "execution_count": null,
   "metadata": {},
   "outputs": [],
   "source": []
  }
 ],
 "metadata": {
  "kernelspec": {
   "display_name": "Python 3.9.7 ('ml')",
   "language": "python",
   "name": "python3"
  },
  "language_info": {
   "codemirror_mode": {
    "name": "ipython",
    "version": 3
   },
   "file_extension": ".py",
   "mimetype": "text/x-python",
   "name": "python",
   "nbconvert_exporter": "python",
   "pygments_lexer": "ipython3",
   "version": "3.9.7"
  },
  "orig_nbformat": 4,
  "vscode": {
   "interpreter": {
    "hash": "4fd9d67d0e9a41140145a4f72bf435aeee9c17c765bd40006482f4c6ff739f86"
   }
  }
 },
 "nbformat": 4,
 "nbformat_minor": 2
}
