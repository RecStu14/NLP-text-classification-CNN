{
 "cells": [
  {
   "cell_type": "markdown",
   "metadata": {},
   "source": [
    "# Training - Cornell Dataset"
   ]
  },
  {
   "cell_type": "markdown",
   "metadata": {},
   "source": [
    "## Imports"
   ]
  },
  {
   "cell_type": "code",
   "execution_count": 3,
   "metadata": {},
   "outputs": [],
   "source": [
    "from tensorflow.keras import regularizers, layers, losses, preprocessing\n",
    "from tensorflow.keras.callbacks import EarlyStopping, ModelCheckpoint\n",
    "from tensorflow.keras.preprocessing.sequence import pad_sequences\n",
    "from tensorflow.keras.preprocessing.text import Tokenizer\n",
    "from sklearn.model_selection import train_test_split\n",
    "from sklearn.metrics import classification_report\n",
    "from processing.helper_fxns import remove_url, clean_text\n",
    "from sklearn.preprocessing import LabelEncoder\n",
    "from collections import Counter\n",
    "import matplotlib.pyplot as plt\n",
    "import tensorflow as tf\n",
    "import seaborn as sb\n",
    "import pandas as pd\n",
    "import numpy as np\n",
    "import os, shutil\n",
    "import string\n",
    "import nltk\n",
    "import sys\n",
    "import re\n",
    "\n",
    "import pydot"
   ]
  },
  {
   "cell_type": "markdown",
   "metadata": {},
   "source": [
    "## Checking GPU"
   ]
  },
  {
   "cell_type": "code",
   "execution_count": 4,
   "metadata": {},
   "outputs": [
    {
     "name": "stdout",
     "output_type": "stream",
     "text": [
      "Default GPU Device: /device:GPU:0\n"
     ]
    },
    {
     "name": "stderr",
     "output_type": "stream",
     "text": [
      "2022-11-06 11:45:43.247315: I tensorflow/core/common_runtime/pluggable_device/pluggable_device_factory.cc:305] Could not identify NUMA node of platform GPU ID 0, defaulting to 0. Your kernel may not have been built with NUMA support.\n",
      "2022-11-06 11:45:43.247334: I tensorflow/core/common_runtime/pluggable_device/pluggable_device_factory.cc:271] Created TensorFlow device (/device:GPU:0 with 0 MB memory) -> physical PluggableDevice (device: 0, name: METAL, pci bus id: <undefined>)\n",
      "2022-11-06 11:45:43.247459: I tensorflow/core/common_runtime/pluggable_device/pluggable_device_factory.cc:305] Could not identify NUMA node of platform GPU ID 0, defaulting to 0. Your kernel may not have been built with NUMA support.\n",
      "2022-11-06 11:45:43.247466: I tensorflow/core/common_runtime/pluggable_device/pluggable_device_factory.cc:271] Created TensorFlow device (/device:GPU:0 with 0 MB memory) -> physical PluggableDevice (device: 0, name: METAL, pci bus id: <undefined>)\n"
     ]
    }
   ],
   "source": [
    "if tf.test.gpu_device_name():\n",
    "  print(\"Default GPU Device: {}\".format(tf.test.gpu_device_name()))\n",
    "else:\n",
    "  print('Please install GPU version of TF')"
   ]
  },
  {
   "cell_type": "markdown",
   "metadata": {},
   "source": [
    "## Loading the Datasets"
   ]
  },
  {
   "cell_type": "code",
   "execution_count": 44,
   "metadata": {},
   "outputs": [
    {
     "data": {
      "text/html": [
       "<div>\n",
       "<style scoped>\n",
       "    .dataframe tbody tr th:only-of-type {\n",
       "        vertical-align: middle;\n",
       "    }\n",
       "\n",
       "    .dataframe tbody tr th {\n",
       "        vertical-align: top;\n",
       "    }\n",
       "\n",
       "    .dataframe thead th {\n",
       "        text-align: right;\n",
       "    }\n",
       "</style>\n",
       "<table border=\"1\" class=\"dataframe\">\n",
       "  <thead>\n",
       "    <tr style=\"text-align: right;\">\n",
       "      <th></th>\n",
       "      <th>text</th>\n",
       "      <th>sentiment</th>\n",
       "    </tr>\n",
       "  </thead>\n",
       "  <tbody>\n",
       "    <tr>\n",
       "      <th>0</th>\n",
       "      <td>the terrorist must destroy any genetic remains...</td>\n",
       "      <td>neut</td>\n",
       "    </tr>\n",
       "    <tr>\n",
       "      <th>1</th>\n",
       "      <td>but later that year she was gunned down by ass...</td>\n",
       "      <td>neut</td>\n",
       "    </tr>\n",
       "    <tr>\n",
       "      <th>2</th>\n",
       "      <td>fourteen-year-old misfit farm boy duncan midge...</td>\n",
       "      <td>neut</td>\n",
       "    </tr>\n",
       "    <tr>\n",
       "      <th>3</th>\n",
       "      <td>a woman who again is able to let love into her...</td>\n",
       "      <td>neut</td>\n",
       "    </tr>\n",
       "    <tr>\n",
       "      <th>4</th>\n",
       "      <td>thornton stars as a man who is free after serv...</td>\n",
       "      <td>neut</td>\n",
       "    </tr>\n",
       "  </tbody>\n",
       "</table>\n",
       "</div>"
      ],
      "text/plain": [
       "                                                text sentiment\n",
       "0  the terrorist must destroy any genetic remains...      neut\n",
       "1  but later that year she was gunned down by ass...      neut\n",
       "2  fourteen-year-old misfit farm boy duncan midge...      neut\n",
       "3  a woman who again is able to let love into her...      neut\n",
       "4  thornton stars as a man who is free after serv...      neut"
      ]
     },
     "execution_count": 44,
     "metadata": {},
     "output_type": "execute_result"
    }
   ],
   "source": [
    "cornell_neutral = pd.read_csv(\"/Users/sankeerthana/Documents/NTU/YEAR_4/CZ4045/Group_Assignment/NLP-text-classification-CNN/datasets/initial/cornell_1500_neutral.csv\")\n",
    "cornell_neutral.head()"
   ]
  },
  {
   "cell_type": "code",
   "execution_count": 45,
   "metadata": {},
   "outputs": [
    {
     "data": {
      "text/plain": [
       "1    1500\n",
       "Name: sentiment, dtype: int64"
      ]
     },
     "execution_count": 45,
     "metadata": {},
     "output_type": "execute_result"
    }
   ],
   "source": [
    "cornell_neutral['sentiment'] = cornell_neutral['sentiment'].replace({'neut':1})\n",
    "cornell_neutral['sentiment'].value_counts()"
   ]
  },
  {
   "cell_type": "code",
   "execution_count": 5,
   "metadata": {},
   "outputs": [
    {
     "data": {
      "text/html": [
       "<div>\n",
       "<style scoped>\n",
       "    .dataframe tbody tr th:only-of-type {\n",
       "        vertical-align: middle;\n",
       "    }\n",
       "\n",
       "    .dataframe tbody tr th {\n",
       "        vertical-align: top;\n",
       "    }\n",
       "\n",
       "    .dataframe thead th {\n",
       "        text-align: right;\n",
       "    }\n",
       "</style>\n",
       "<table border=\"1\" class=\"dataframe\">\n",
       "  <thead>\n",
       "    <tr style=\"text-align: right;\">\n",
       "      <th></th>\n",
       "      <th>text</th>\n",
       "      <th>sentiment</th>\n",
       "    </tr>\n",
       "  </thead>\n",
       "  <tbody>\n",
       "    <tr>\n",
       "      <th>0</th>\n",
       "      <td>assume nothing .  the phrase is perhaps one of...</td>\n",
       "      <td>2</td>\n",
       "    </tr>\n",
       "    <tr>\n",
       "      <th>1</th>\n",
       "      <td>plot : derek zoolander is a male model .  he i...</td>\n",
       "      <td>2</td>\n",
       "    </tr>\n",
       "    <tr>\n",
       "      <th>2</th>\n",
       "      <td>i actually am a fan of the original 1961 or so...</td>\n",
       "      <td>2</td>\n",
       "    </tr>\n",
       "    <tr>\n",
       "      <th>3</th>\n",
       "      <td>a movie that's been as highly built up as the ...</td>\n",
       "      <td>2</td>\n",
       "    </tr>\n",
       "    <tr>\n",
       "      <th>4</th>\n",
       "      <td>\" good will hunting \" is two movies in one : ...</td>\n",
       "      <td>2</td>\n",
       "    </tr>\n",
       "  </tbody>\n",
       "</table>\n",
       "</div>"
      ],
      "text/plain": [
       "                                                text  sentiment\n",
       "0  assume nothing .  the phrase is perhaps one of...          2\n",
       "1  plot : derek zoolander is a male model .  he i...          2\n",
       "2  i actually am a fan of the original 1961 or so...          2\n",
       "3  a movie that's been as highly built up as the ...          2\n",
       "4   \" good will hunting \" is two movies in one : ...          2"
      ]
     },
     "execution_count": 5,
     "metadata": {},
     "output_type": "execute_result"
    }
   ],
   "source": [
    "df = pd.read_csv('datasets/initial/cornell_v2_combined.csv')\n",
    "df.head()"
   ]
  },
  {
   "cell_type": "code",
   "execution_count": 86,
   "metadata": {},
   "outputs": [
    {
     "name": "stdout",
     "output_type": "stream",
     "text": [
      "(800, 2)\n"
     ]
    },
    {
     "data": {
      "text/html": [
       "<div>\n",
       "<style scoped>\n",
       "    .dataframe tbody tr th:only-of-type {\n",
       "        vertical-align: middle;\n",
       "    }\n",
       "\n",
       "    .dataframe tbody tr th {\n",
       "        vertical-align: top;\n",
       "    }\n",
       "\n",
       "    .dataframe thead th {\n",
       "        text-align: right;\n",
       "    }\n",
       "</style>\n",
       "<table border=\"1\" class=\"dataframe\">\n",
       "  <thead>\n",
       "    <tr style=\"text-align: right;\">\n",
       "      <th></th>\n",
       "      <th>title</th>\n",
       "      <th>verdict</th>\n",
       "    </tr>\n",
       "  </thead>\n",
       "  <tbody>\n",
       "    <tr>\n",
       "      <th>0</th>\n",
       "      <td>The difference between new and old padding in ...</td>\n",
       "      <td>1</td>\n",
       "    </tr>\n",
       "    <tr>\n",
       "      <th>1</th>\n",
       "      <td>me n my friend have vry sexual convos (will me...</td>\n",
       "      <td>1</td>\n",
       "    </tr>\n",
       "    <tr>\n",
       "      <th>2</th>\n",
       "      <td>Went for a dentist appointment for some pain a...</td>\n",
       "      <td>1</td>\n",
       "    </tr>\n",
       "    <tr>\n",
       "      <th>3</th>\n",
       "      <td>Why did I text someone again?</td>\n",
       "      <td>1</td>\n",
       "    </tr>\n",
       "    <tr>\n",
       "      <th>4</th>\n",
       "      <td>GUYS WE HAVE AN ACE CHARACTER AND HES A POC ð...</td>\n",
       "      <td>1</td>\n",
       "    </tr>\n",
       "  </tbody>\n",
       "</table>\n",
       "</div>"
      ],
      "text/plain": [
       "                                               title  verdict\n",
       "0  The difference between new and old padding in ...        1\n",
       "1  me n my friend have vry sexual convos (will me...        1\n",
       "2  Went for a dentist appointment for some pain a...        1\n",
       "3                      Why did I text someone again?        1\n",
       "4  GUYS WE HAVE AN ACE CHARACTER AND HES A POC ð...        1"
      ]
     },
     "execution_count": 86,
     "metadata": {},
     "output_type": "execute_result"
    }
   ],
   "source": [
    "#test_data = pd.read_csv('datasets/initial/combined.csv')\n",
    "test_data = pd.read_csv('datasets/initial/crawled_testset_final.csv')\n",
    "print(test_data.shape)\n",
    "test_data.head()"
   ]
  },
  {
   "cell_type": "code",
   "execution_count": 46,
   "metadata": {},
   "outputs": [
    {
     "data": {
      "text/html": [
       "<div>\n",
       "<style scoped>\n",
       "    .dataframe tbody tr th:only-of-type {\n",
       "        vertical-align: middle;\n",
       "    }\n",
       "\n",
       "    .dataframe tbody tr th {\n",
       "        vertical-align: top;\n",
       "    }\n",
       "\n",
       "    .dataframe thead th {\n",
       "        text-align: right;\n",
       "    }\n",
       "</style>\n",
       "<table border=\"1\" class=\"dataframe\">\n",
       "  <thead>\n",
       "    <tr style=\"text-align: right;\">\n",
       "      <th></th>\n",
       "      <th>text</th>\n",
       "      <th>sentiment</th>\n",
       "    </tr>\n",
       "  </thead>\n",
       "  <tbody>\n",
       "    <tr>\n",
       "      <th>0</th>\n",
       "      <td>assume nothing the phrase perhaps one the most...</td>\n",
       "      <td>2</td>\n",
       "    </tr>\n",
       "    <tr>\n",
       "      <th>1</th>\n",
       "      <td>plot derek zoolander male model also very dumb...</td>\n",
       "      <td>2</td>\n",
       "    </tr>\n",
       "    <tr>\n",
       "      <th>2</th>\n",
       "      <td>actually fan the original liveactiondisney fli...</td>\n",
       "      <td>2</td>\n",
       "    </tr>\n",
       "    <tr>\n",
       "      <th>3</th>\n",
       "      <td>movie thats been highly built the truman show ...</td>\n",
       "      <td>2</td>\n",
       "    </tr>\n",
       "    <tr>\n",
       "      <th>4</th>\n",
       "      <td>good will hunting two movies one independent t...</td>\n",
       "      <td>2</td>\n",
       "    </tr>\n",
       "  </tbody>\n",
       "</table>\n",
       "</div>"
      ],
      "text/plain": [
       "                                                text  sentiment\n",
       "0  assume nothing the phrase perhaps one the most...          2\n",
       "1  plot derek zoolander male model also very dumb...          2\n",
       "2  actually fan the original liveactiondisney fli...          2\n",
       "3  movie thats been highly built the truman show ...          2\n",
       "4  good will hunting two movies one independent t...          2"
      ]
     },
     "execution_count": 46,
     "metadata": {},
     "output_type": "execute_result"
    }
   ],
   "source": [
    "#concat\n",
    "\n",
    "final_cornell_v2_neutral = pd.concat([df, cornell_neutral])\n",
    "final_cornell_v2_neutral.head()"
   ]
  },
  {
   "cell_type": "code",
   "execution_count": 88,
   "metadata": {},
   "outputs": [
    {
     "data": {
      "text/plain": [
       "1    1500\n",
       "2    1100\n",
       "0    1100\n",
       "Name: sentiment, dtype: int64"
      ]
     },
     "execution_count": 88,
     "metadata": {},
     "output_type": "execute_result"
    }
   ],
   "source": [
    "df = final_cornell_v2_neutral\n",
    "df['sentiment'].value_counts()"
   ]
  },
  {
   "cell_type": "markdown",
   "metadata": {},
   "source": [
    "## Preprocessing"
   ]
  },
  {
   "cell_type": "markdown",
   "metadata": {},
   "source": [
    "### Helper Functions to Remove URL and Clean Text\n",
    "\n",
    "Importing the remove_url and clean_text fucntions to remove any URL in the text and to remove punctuations in the text."
   ]
  },
  {
   "cell_type": "code",
   "execution_count": 89,
   "metadata": {},
   "outputs": [],
   "source": [
    "df['text'] = df['text'].apply(remove_url)\n",
    "df['text'] = df['text'].apply(clean_text)\n",
    "\n",
    "test_data['text'] = test_data['text'].apply(remove_url)\n",
    "test_data['text'] = test_data['text'].apply(clean_text)"
   ]
  },
  {
   "cell_type": "code",
   "execution_count": 90,
   "metadata": {},
   "outputs": [
    {
     "name": "stdout",
     "output_type": "stream",
     "text": [
      "Number of texts in each of the Classes in Training Set: \n"
     ]
    },
    {
     "data": {
      "text/plain": [
       "1    1500\n",
       "2    1100\n",
       "0    1100\n",
       "Name: sentiment, dtype: int64"
      ]
     },
     "execution_count": 90,
     "metadata": {},
     "output_type": "execute_result"
    }
   ],
   "source": [
    "print(\"Number of texts in each of the Classes in Training Set: \")\n",
    "df['sentiment'].value_counts()"
   ]
  },
  {
   "cell_type": "code",
   "execution_count": 91,
   "metadata": {},
   "outputs": [
    {
     "name": "stdout",
     "output_type": "stream",
     "text": [
      "Number of texts in each of the Classes in Test Set: \n"
     ]
    },
    {
     "data": {
      "text/plain": [
       "1    500\n",
       "2    150\n",
       "0    150\n",
       "Name: sentiment, dtype: int64"
      ]
     },
     "execution_count": 91,
     "metadata": {},
     "output_type": "execute_result"
    }
   ],
   "source": [
    "print(\"Number of texts in each of the Classes in Test Set: \")\n",
    "test_data['sentiment'].value_counts()"
   ]
  },
  {
   "cell_type": "markdown",
   "metadata": {},
   "source": [
    "## Tokenization\n",
    "\n",
    "Updates a list on vocabulary based on the text. It kind of creates its Vocabulary. This is important before converting texts into sequences. "
   ]
  },
  {
   "cell_type": "code",
   "execution_count": 92,
   "metadata": {},
   "outputs": [],
   "source": [
    "#Instantiating Tokenizer on Cornell and Crawled Dataset\n",
    "num_words = 1000\n",
    "\n",
    "tokenizer = Tokenizer(num_words=num_words,oov_token=\"unk\")\n",
    "tokenizer.fit_on_texts(df['text'].tolist())\n",
    "tokenizer.fit_on_texts(test_data['text'].tolist())"
   ]
  },
  {
   "cell_type": "markdown",
   "metadata": {},
   "source": [
    "### Splitting Training Sets into Different Splits"
   ]
  },
  {
   "cell_type": "code",
   "execution_count": 93,
   "metadata": {},
   "outputs": [],
   "source": [
    "NUM_TRAIN = int(0.8 * len(df))\n",
    "NUM_VALID = int(0.2 * len(df))"
   ]
  },
  {
   "cell_type": "code",
   "execution_count": 94,
   "metadata": {},
   "outputs": [
    {
     "name": "stdout",
     "output_type": "stream",
     "text": [
      "Length of dataset: 3700\n",
      "Length of Train: 2960\n",
      "Length of Valid: 740\n",
      "Length of Test: 800\n"
     ]
    }
   ],
   "source": [
    "#Prior to splitting\n",
    "print(f\"Length of dataset: {len(df)}\")\n",
    "print(f\"Length of Train: {NUM_TRAIN}\")\n",
    "print(f\"Length of Valid: {NUM_VALID}\")\n",
    "print(f\"Length of Test: {len(test_data)}\")"
   ]
  },
  {
   "cell_type": "code",
   "execution_count": 55,
   "metadata": {},
   "outputs": [],
   "source": [
    "#splitting into training and validation data\n",
    "X_train, X_valid, y_train, y_valid = train_test_split(df['text'].tolist(), \n",
    "                                                  df['sentiment'].tolist(), \n",
    "                                                  test_size=0.2, stratify=df['sentiment'].tolist(),\n",
    "                                                  random_state=0)"
   ]
  },
  {
   "cell_type": "code",
   "execution_count": 95,
   "metadata": {},
   "outputs": [],
   "source": [
    "X_test = test_data['text'].tolist()\n",
    "y_test = test_data['sentiment'].tolist()"
   ]
  },
  {
   "cell_type": "code",
   "execution_count": 96,
   "metadata": {},
   "outputs": [
    {
     "name": "stdout",
     "output_type": "stream",
     "text": [
      "Length of Train : 2960\n",
      "Length of Valid : 740\n",
      "Length of Test : 800\n"
     ]
    }
   ],
   "source": [
    "print(f\"Length of Train : {len(X_train)}\")\n",
    "print(f\"Length of Valid : {len(X_valid)}\")\n",
    "print(f\"Length of Test : {len(X_test)}\")"
   ]
  },
  {
   "cell_type": "code",
   "execution_count": 97,
   "metadata": {},
   "outputs": [
    {
     "name": "stdout",
     "output_type": "stream",
     "text": [
      "Class Distributions:\n",
      "Train: Counter({1: 1200, 0: 880, 2: 880})\n",
      "Valid: Counter({1: 300, 2: 220, 0: 220})\n",
      "Test: Counter({1: 500, 2: 150, 0: 150})\n"
     ]
    }
   ],
   "source": [
    "#getting the class distribution\n",
    "print(\"Class Distributions:\")\n",
    "print(f\"Train: {str(Counter(y_train))}\")\n",
    "print(f\"Valid: {str(Counter(y_valid))}\")\n",
    "print(f\"Test: {str(Counter(y_test))}\")"
   ]
  },
  {
   "cell_type": "markdown",
   "metadata": {},
   "source": [
    "### Converting Texts to Sequences and Storing them in Arrays\n",
    "\n",
    "Assigning an index to each word in the text sample. Do note that for the Tokenization, 0 is not assigned to any word, it is instead assigned to any new/unknown word that is not present in the vocabulary."
   ]
  },
  {
   "cell_type": "code",
   "execution_count": 98,
   "metadata": {},
   "outputs": [
    {
     "name": "stderr",
     "output_type": "stream",
     "text": [
      "/var/folders/54/f2chvxk17fd0vhl03xl62d_80000gn/T/ipykernel_1965/3986626980.py:2: VisibleDeprecationWarning: Creating an ndarray from ragged nested sequences (which is a list-or-tuple of lists-or-tuples-or ndarrays with different lengths or shapes) is deprecated. If you meant to do this, you must specify 'dtype=object' when creating the ndarray.\n",
      "  x_train = np.array(tokenizer.texts_to_sequences(X_train))\n",
      "/var/folders/54/f2chvxk17fd0vhl03xl62d_80000gn/T/ipykernel_1965/3986626980.py:3: VisibleDeprecationWarning: Creating an ndarray from ragged nested sequences (which is a list-or-tuple of lists-or-tuples-or ndarrays with different lengths or shapes) is deprecated. If you meant to do this, you must specify 'dtype=object' when creating the ndarray.\n",
      "  x_valid = np.array(tokenizer.texts_to_sequences(X_valid))\n",
      "/var/folders/54/f2chvxk17fd0vhl03xl62d_80000gn/T/ipykernel_1965/3986626980.py:4: VisibleDeprecationWarning: Creating an ndarray from ragged nested sequences (which is a list-or-tuple of lists-or-tuples-or ndarrays with different lengths or shapes) is deprecated. If you meant to do this, you must specify 'dtype=object' when creating the ndarray.\n",
      "  x_test = np.array(tokenizer.texts_to_sequences(X_test))\n"
     ]
    }
   ],
   "source": [
    "#Converts the texts to sequences and stores it in an array\n",
    "x_train = np.array(tokenizer.texts_to_sequences(X_train))\n",
    "x_valid = np.array(tokenizer.texts_to_sequences(X_valid))\n",
    "x_test = np.array(tokenizer.texts_to_sequences(X_test))"
   ]
  },
  {
   "cell_type": "markdown",
   "metadata": {},
   "source": [
    "## Padding the Sequences"
   ]
  },
  {
   "cell_type": "markdown",
   "metadata": {},
   "source": [
    "### Finding the Longest Word Sequence\n",
    "\n",
    "This is important as this kind of defines what the shape of the input should be."
   ]
  },
  {
   "cell_type": "code",
   "execution_count": 99,
   "metadata": {},
   "outputs": [
    {
     "name": "stdout",
     "output_type": "stream",
     "text": [
      "Longest Sentence in terms of words in Train:  1880\n",
      "Longest Sentence in terms of words in Valid:  1466\n",
      "Longest Sentence in terms of words in Test:  43\n"
     ]
    }
   ],
   "source": [
    "#finding the longest word sequence\n",
    "train_num_words_text = pd.DataFrame(X_train, columns=['text'])['text'].apply(lambda x:len(str(x).split()))\n",
    "max_len_train = max(train_num_words_text)\n",
    "\n",
    "valid_num_words_text = pd.DataFrame(X_valid, columns=['text'])['text'].apply(lambda x:len(str(x).split()))\n",
    "max_len_valid = max(valid_num_words_text)\n",
    "\n",
    "test_num_words_text = pd.DataFrame(X_test, columns=['text'])['text'].apply(lambda x:len(str(x).split()))\n",
    "max_len_test = max(test_num_words_text)\n",
    "\n",
    "print('Longest Sentence in terms of words in Train: ', max_len_train)\n",
    "print('Longest Sentence in terms of words in Valid: ', max_len_valid)\n",
    "print('Longest Sentence in terms of words in Test: ', max_len_test)"
   ]
  },
  {
   "cell_type": "markdown",
   "metadata": {},
   "source": [
    "Therefore, in order to account for the all the splits, we set the shape of the input as 1885."
   ]
  },
  {
   "cell_type": "code",
   "execution_count": 61,
   "metadata": {},
   "outputs": [],
   "source": [
    "MAXLEN = 1885"
   ]
  },
  {
   "cell_type": "code",
   "execution_count": 100,
   "metadata": {},
   "outputs": [],
   "source": [
    "x_train = pad_sequences(x_train, padding='post', maxlen=MAXLEN)\n",
    "x_valid = pad_sequences(x_valid, padding='post', maxlen=MAXLEN)\n",
    "x_test = pad_sequences(x_test, padding='post', maxlen=MAXLEN)"
   ]
  },
  {
   "cell_type": "code",
   "execution_count": 63,
   "metadata": {},
   "outputs": [
    {
     "data": {
      "text/plain": [
       "array([230,   1,  78, ...,   0,   0,   0], dtype=int32)"
      ]
     },
     "execution_count": 63,
     "metadata": {},
     "output_type": "execute_result"
    }
   ],
   "source": [
    "x_train[0]"
   ]
  },
  {
   "cell_type": "markdown",
   "metadata": {},
   "source": [
    "In this section, we extended the list of the sequences to the MAXLEN, in order to standardise across te splits."
   ]
  },
  {
   "cell_type": "markdown",
   "metadata": {},
   "source": [
    "## Encoding the Labels"
   ]
  },
  {
   "cell_type": "code",
   "execution_count": 101,
   "metadata": {},
   "outputs": [],
   "source": [
    "#Instantiating the LabelEncoder\n",
    "le = LabelEncoder()"
   ]
  },
  {
   "cell_type": "code",
   "execution_count": 102,
   "metadata": {},
   "outputs": [],
   "source": [
    "#Encoding the train labels\n",
    "train_labels = le.fit_transform(y_train)\n",
    "valid_labels = le.transform(y_valid)\n",
    "test_labels = le.transform(y_test)\n",
    "\n",
    "#Converting the encoded train labels into categorical form and then storing them as an array\n",
    "train_labels = np.asarray( tf.keras.utils.to_categorical(train_labels))\n",
    "valid_labels = np.asarray( tf.keras.utils.to_categorical(valid_labels))\n",
    "test_labels = np.asarray(tf.keras.utils.to_categorical(test_labels))"
   ]
  },
  {
   "cell_type": "code",
   "execution_count": 67,
   "metadata": {},
   "outputs": [
    {
     "data": {
      "text/plain": [
       "[0, 1, 2]"
      ]
     },
     "execution_count": 67,
     "metadata": {},
     "output_type": "execute_result"
    }
   ],
   "source": [
    "#Listing out the classes\n",
    "list(le.classes_)"
   ]
  },
  {
   "cell_type": "markdown",
   "metadata": {},
   "source": [
    "0 - neg , 1 - neut, 2 - pos\n",
    "[neg neut pos]"
   ]
  },
  {
   "cell_type": "code",
   "execution_count": 103,
   "metadata": {},
   "outputs": [
    {
     "data": {
      "text/plain": [
       "array([[0., 1., 0.],\n",
       "       [0., 1., 0.],\n",
       "       [0., 1., 0.],\n",
       "       ...,\n",
       "       [1., 0., 0.],\n",
       "       [1., 0., 0.],\n",
       "       [1., 0., 0.]], dtype=float32)"
      ]
     },
     "execution_count": 103,
     "metadata": {},
     "output_type": "execute_result"
    }
   ],
   "source": [
    "test_labels"
   ]
  },
  {
   "cell_type": "markdown",
   "metadata": {},
   "source": [
    "## Creating our own Tensorflow Dataset"
   ]
  },
  {
   "cell_type": "code",
   "execution_count": 104,
   "metadata": {},
   "outputs": [],
   "source": [
    "train_ds = tf.data.Dataset.from_tensor_slices((x_train,train_labels))\n",
    "valid_ds = tf.data.Dataset.from_tensor_slices((x_valid,valid_labels))\n",
    "test_ds = tf.data.Dataset.from_tensor_slices((x_test,test_labels))"
   ]
  },
  {
   "cell_type": "code",
   "execution_count": 105,
   "metadata": {},
   "outputs": [
    {
     "name": "stdout",
     "output_type": "stream",
     "text": [
      "======Train dataset ====\n",
      "tf.Tensor([230   1  78 ...   0   0   0], shape=(1885,), dtype=int32) tf.Tensor([1. 0. 0.], shape=(3,), dtype=float32)\n",
      "======Validation dataset ====\n",
      "tf.Tensor([2 1 1 ... 0 0 0], shape=(1885,), dtype=int32) tf.Tensor([0. 1. 0.], shape=(3,), dtype=float32)\n",
      "======Test dataset ====\n",
      "tf.Tensor([  2   1 122 ...   0   0   0], shape=(1885,), dtype=int32) tf.Tensor([0. 1. 0.], shape=(3,), dtype=float32)\n"
     ]
    }
   ],
   "source": [
    "count =0\n",
    "print('======Train dataset ====')\n",
    "for value,label in train_ds:\n",
    "    count += 1\n",
    "    print(value,label)\n",
    "    if count==1:\n",
    "        break\n",
    "count =0\n",
    "print('======Validation dataset ====')\n",
    "for value,label in valid_ds:\n",
    "    count += 1\n",
    "    print(value,label)\n",
    "    if count==1:\n",
    "        break\n",
    "count =0\n",
    "print('======Test dataset ====')\n",
    "for value,label in test_ds:\n",
    "    count += 1\n",
    "    print(value,label)\n",
    "    if count==1:\n",
    "        break  "
   ]
  },
  {
   "cell_type": "markdown",
   "metadata": {},
   "source": [
    "## CNN Model Creation"
   ]
  },
  {
   "cell_type": "code",
   "execution_count": 71,
   "metadata": {},
   "outputs": [],
   "source": [
    "#Initialsing Parameters\n",
    "max_features = 1000\n",
    "vocab_size = 1000\n",
    "embedding_dim = 64\n",
    "sequence_length = MAXLEN\n",
    "epochs = 100\n",
    "batch_size = 32\n",
    "filters = 32\n",
    "kernel_size = 3\n",
    "hidden_dims = 250\n",
    "#epochs = 10"
   ]
  },
  {
   "cell_type": "code",
   "execution_count": 72,
   "metadata": {},
   "outputs": [],
   "source": [
    "model = tf.keras.Sequential()\n",
    "\n",
    "model.add(tf.keras.layers.Embedding(max_features+1, embedding_dim, input_length=sequence_length, embeddings_regularizer = regularizers.l2(0.0005)))\n",
    "model.add(tf.keras.layers.Conv1D(128,3, activation='relu', kernel_regularizer = regularizers.l2(0.0005),bias_regularizer = regularizers.l2(0.0005)))\n",
    "model.add(tf.keras.layers.GlobalMaxPooling1D())\n",
    "model.add(tf.keras.layers.Dropout(0.5))\n",
    "model.add(tf.keras.layers.Flatten())\n",
    "model.add(tf.keras.layers.Dense(3, activation='softmax',kernel_regularizer=regularizers.l2(0.001),bias_regularizer=regularizers.l2(0.001),))\n",
    "model.compile(loss=tf.keras.losses.CategoricalCrossentropy(from_logits=True), optimizer='Nadam', metrics=['CategoricalAccuracy'])"
   ]
  },
  {
   "cell_type": "code",
   "execution_count": 73,
   "metadata": {},
   "outputs": [
    {
     "name": "stdout",
     "output_type": "stream",
     "text": [
      "Model: \"sequential\"\n",
      "_________________________________________________________________\n",
      "Layer (type)                 Output Shape              Param #   \n",
      "=================================================================\n",
      "embedding (Embedding)        (None, 1885, 64)          64064     \n",
      "_________________________________________________________________\n",
      "conv1d (Conv1D)              (None, 1883, 128)         24704     \n",
      "_________________________________________________________________\n",
      "global_max_pooling1d (Global (None, 128)               0         \n",
      "_________________________________________________________________\n",
      "dropout (Dropout)            (None, 128)               0         \n",
      "_________________________________________________________________\n",
      "flatten (Flatten)            (None, 128)               0         \n",
      "_________________________________________________________________\n",
      "dense (Dense)                (None, 3)                 387       \n",
      "=================================================================\n",
      "Total params: 89,155\n",
      "Trainable params: 89,155\n",
      "Non-trainable params: 0\n",
      "_________________________________________________________________\n"
     ]
    }
   ],
   "source": [
    "model.summary()"
   ]
  },
  {
   "cell_type": "code",
   "execution_count": 74,
   "metadata": {},
   "outputs": [],
   "source": [
    "#creating callbacks - early stopping and storing best model checkpoint \n",
    "early_stopping = tf.keras.callbacks.EarlyStopping(monitor=\"val_categorical_accuracy\", patience=10)\n",
    "\n",
    "checkpoint_filepath = '/Users/sankeerthana/Documents/NTU/YEAR_4/CZ4045/Group_Assignment/NLP-text-classification-CNN/model/weights/cornell_v2_best_epoch{epoch}.hdf5'\n",
    "model_checkpoint = tf.keras.callbacks.ModelCheckpoint(\n",
    "    filepath=checkpoint_filepath,\n",
    "    monitor = 'val_categorical_accuracy',\n",
    "    save_best_only=True)"
   ]
  },
  {
   "cell_type": "code",
   "execution_count": 75,
   "metadata": {},
   "outputs": [],
   "source": [
    "#compiling the model\n",
    "model.compile(loss=tf.keras.losses.CategoricalCrossentropy(from_logits=True), optimizer='Nadam', metrics=[\"CategoricalAccuracy\"])\n"
   ]
  },
  {
   "cell_type": "markdown",
   "metadata": {},
   "source": [
    "## Training"
   ]
  },
  {
   "cell_type": "code",
   "execution_count": 76,
   "metadata": {},
   "outputs": [
    {
     "name": "stdout",
     "output_type": "stream",
     "text": [
      "Epoch 1/100\n"
     ]
    },
    {
     "name": "stderr",
     "output_type": "stream",
     "text": [
      "/Users/sankeerthana/miniforge3/envs/ml/lib/python3.9/site-packages/tensorflow/python/keras/backend.py:4882: UserWarning: \"`categorical_crossentropy` received `from_logits=True`, but the `output` argument was produced by a sigmoid or softmax activation and thus does not represent logits. Was this intended?\"\n",
      "  warnings.warn(\n",
      "2022-11-06 11:55:08.885796: W tensorflow/core/platform/profile_utils/cpu_utils.cc:128] Failed to get CPU frequency: 0 Hz\n",
      "2022-11-06 11:55:08.886677: I tensorflow/core/grappler/optimizers/custom_graph_optimizer_registry.cc:112] Plugin optimizer for device_type GPU is enabled.\n"
     ]
    },
    {
     "name": "stdout",
     "output_type": "stream",
     "text": [
      "24/24 [==============================] - ETA: 0s - loss: 1.1365 - categorical_accuracy: 0.4645"
     ]
    },
    {
     "name": "stderr",
     "output_type": "stream",
     "text": [
      "2022-11-06 11:55:29.159085: I tensorflow/core/grappler/optimizers/custom_graph_optimizer_registry.cc:112] Plugin optimizer for device_type GPU is enabled.\n"
     ]
    },
    {
     "name": "stdout",
     "output_type": "stream",
     "text": [
      "24/24 [==============================] - 21s 831ms/step - loss: 1.1365 - categorical_accuracy: 0.4645 - val_loss: 1.0676 - val_categorical_accuracy: 0.4838\n",
      "Epoch 2/100\n",
      "24/24 [==============================] - 22s 904ms/step - loss: 0.9934 - categorical_accuracy: 0.6361 - val_loss: 0.8686 - val_categorical_accuracy: 0.6878\n",
      "Epoch 3/100\n",
      "24/24 [==============================] - 22s 898ms/step - loss: 0.7978 - categorical_accuracy: 0.6905 - val_loss: 0.7032 - val_categorical_accuracy: 0.6770\n",
      "Epoch 4/100\n",
      "24/24 [==============================] - 21s 889ms/step - loss: 0.6990 - categorical_accuracy: 0.7061 - val_loss: 0.6493 - val_categorical_accuracy: 0.7743\n",
      "Epoch 5/100\n",
      "24/24 [==============================] - 21s 887ms/step - loss: 0.6631 - categorical_accuracy: 0.7166 - val_loss: 0.6251 - val_categorical_accuracy: 0.7784\n",
      "Epoch 6/100\n",
      "24/24 [==============================] - 22s 894ms/step - loss: 0.6413 - categorical_accuracy: 0.7284 - val_loss: 0.6139 - val_categorical_accuracy: 0.7351\n",
      "Epoch 7/100\n",
      "24/24 [==============================] - 21s 889ms/step - loss: 0.6218 - categorical_accuracy: 0.7372 - val_loss: 0.5935 - val_categorical_accuracy: 0.7703\n",
      "Epoch 8/100\n",
      "24/24 [==============================] - 21s 887ms/step - loss: 0.6024 - categorical_accuracy: 0.7449 - val_loss: 0.5868 - val_categorical_accuracy: 0.7770\n",
      "Epoch 9/100\n",
      "24/24 [==============================] - 21s 892ms/step - loss: 0.5917 - categorical_accuracy: 0.7463 - val_loss: 0.5856 - val_categorical_accuracy: 0.7851\n",
      "Epoch 10/100\n",
      "24/24 [==============================] - 22s 897ms/step - loss: 0.5813 - categorical_accuracy: 0.7534 - val_loss: 0.5756 - val_categorical_accuracy: 0.7959\n",
      "Epoch 11/100\n",
      "24/24 [==============================] - 22s 898ms/step - loss: 0.5639 - categorical_accuracy: 0.7747 - val_loss: 0.5659 - val_categorical_accuracy: 0.8054\n",
      "Epoch 12/100\n",
      "24/24 [==============================] - 22s 898ms/step - loss: 0.5497 - categorical_accuracy: 0.7797 - val_loss: 0.5633 - val_categorical_accuracy: 0.8014\n",
      "Epoch 13/100\n",
      "24/24 [==============================] - 22s 899ms/step - loss: 0.5452 - categorical_accuracy: 0.7784 - val_loss: 0.5577 - val_categorical_accuracy: 0.8081\n",
      "Epoch 14/100\n",
      "24/24 [==============================] - 22s 895ms/step - loss: 0.5324 - categorical_accuracy: 0.7983 - val_loss: 0.5544 - val_categorical_accuracy: 0.8068\n",
      "Epoch 15/100\n",
      "24/24 [==============================] - 22s 896ms/step - loss: 0.5193 - categorical_accuracy: 0.7983 - val_loss: 0.5525 - val_categorical_accuracy: 0.8068\n",
      "Epoch 16/100\n",
      "24/24 [==============================] - 22s 899ms/step - loss: 0.5114 - categorical_accuracy: 0.8051 - val_loss: 0.5513 - val_categorical_accuracy: 0.8054\n",
      "Epoch 17/100\n",
      "24/24 [==============================] - 22s 898ms/step - loss: 0.5031 - categorical_accuracy: 0.8162 - val_loss: 0.5448 - val_categorical_accuracy: 0.8068\n",
      "Epoch 18/100\n",
      "24/24 [==============================] - 22s 898ms/step - loss: 0.4916 - categorical_accuracy: 0.8176 - val_loss: 0.5429 - val_categorical_accuracy: 0.8135\n",
      "Epoch 19/100\n",
      "24/24 [==============================] - 22s 901ms/step - loss: 0.4866 - categorical_accuracy: 0.8230 - val_loss: 0.5593 - val_categorical_accuracy: 0.7932\n",
      "Epoch 20/100\n",
      "24/24 [==============================] - 22s 901ms/step - loss: 0.4810 - categorical_accuracy: 0.8277 - val_loss: 0.5585 - val_categorical_accuracy: 0.7959\n",
      "Epoch 21/100\n",
      "24/24 [==============================] - 22s 899ms/step - loss: 0.4739 - categorical_accuracy: 0.8280 - val_loss: 0.5481 - val_categorical_accuracy: 0.8149\n",
      "Epoch 22/100\n",
      "24/24 [==============================] - 22s 904ms/step - loss: 0.4578 - categorical_accuracy: 0.8453 - val_loss: 0.5476 - val_categorical_accuracy: 0.8189\n",
      "Epoch 23/100\n",
      "24/24 [==============================] - 22s 897ms/step - loss: 0.4529 - categorical_accuracy: 0.8517 - val_loss: 0.5464 - val_categorical_accuracy: 0.8041\n",
      "Epoch 24/100\n",
      "24/24 [==============================] - 22s 903ms/step - loss: 0.4434 - categorical_accuracy: 0.8517 - val_loss: 0.5557 - val_categorical_accuracy: 0.8081\n",
      "Epoch 25/100\n",
      "24/24 [==============================] - 22s 899ms/step - loss: 0.4419 - categorical_accuracy: 0.8591 - val_loss: 0.5365 - val_categorical_accuracy: 0.8162\n",
      "Epoch 26/100\n",
      "24/24 [==============================] - 22s 899ms/step - loss: 0.4252 - categorical_accuracy: 0.8716 - val_loss: 0.5514 - val_categorical_accuracy: 0.8014\n",
      "Epoch 27/100\n",
      "24/24 [==============================] - 22s 896ms/step - loss: 0.4238 - categorical_accuracy: 0.8703 - val_loss: 0.5502 - val_categorical_accuracy: 0.8014\n",
      "Epoch 28/100\n",
      "24/24 [==============================] - 22s 900ms/step - loss: 0.4109 - categorical_accuracy: 0.8743 - val_loss: 0.5439 - val_categorical_accuracy: 0.8203\n",
      "Epoch 29/100\n",
      "24/24 [==============================] - 21s 894ms/step - loss: 0.4117 - categorical_accuracy: 0.8865 - val_loss: 0.5404 - val_categorical_accuracy: 0.8068\n",
      "Epoch 30/100\n",
      "24/24 [==============================] - 21s 891ms/step - loss: 0.4039 - categorical_accuracy: 0.8909 - val_loss: 0.5417 - val_categorical_accuracy: 0.8135\n",
      "Epoch 31/100\n",
      "24/24 [==============================] - 21s 891ms/step - loss: 0.3916 - categorical_accuracy: 0.8912 - val_loss: 0.5426 - val_categorical_accuracy: 0.8162\n",
      "Epoch 32/100\n",
      "24/24 [==============================] - 21s 892ms/step - loss: 0.3923 - categorical_accuracy: 0.8963 - val_loss: 0.5719 - val_categorical_accuracy: 0.8081\n",
      "Epoch 33/100\n",
      "24/24 [==============================] - 21s 884ms/step - loss: 0.3911 - categorical_accuracy: 0.8959 - val_loss: 0.5455 - val_categorical_accuracy: 0.8189\n",
      "Epoch 34/100\n",
      "24/24 [==============================] - 21s 882ms/step - loss: 0.3781 - categorical_accuracy: 0.9071 - val_loss: 0.5504 - val_categorical_accuracy: 0.8216\n",
      "Epoch 35/100\n",
      "24/24 [==============================] - 21s 875ms/step - loss: 0.3660 - categorical_accuracy: 0.9142 - val_loss: 0.5458 - val_categorical_accuracy: 0.8216\n",
      "Epoch 36/100\n",
      "24/24 [==============================] - 21s 876ms/step - loss: 0.3542 - categorical_accuracy: 0.9186 - val_loss: 0.5532 - val_categorical_accuracy: 0.8135\n",
      "Epoch 37/100\n",
      "24/24 [==============================] - 21s 881ms/step - loss: 0.3560 - categorical_accuracy: 0.9176 - val_loss: 0.5545 - val_categorical_accuracy: 0.8162\n",
      "Epoch 38/100\n",
      "24/24 [==============================] - 21s 875ms/step - loss: 0.3522 - categorical_accuracy: 0.9287 - val_loss: 0.5629 - val_categorical_accuracy: 0.8257\n",
      "Epoch 39/100\n",
      "24/24 [==============================] - 21s 878ms/step - loss: 0.3433 - categorical_accuracy: 0.9257 - val_loss: 0.5520 - val_categorical_accuracy: 0.8230\n",
      "Epoch 40/100\n",
      "24/24 [==============================] - 21s 869ms/step - loss: 0.3321 - categorical_accuracy: 0.9358 - val_loss: 0.5495 - val_categorical_accuracy: 0.8230\n",
      "Epoch 41/100\n",
      "24/24 [==============================] - 21s 873ms/step - loss: 0.3335 - categorical_accuracy: 0.9341 - val_loss: 0.5518 - val_categorical_accuracy: 0.8324\n",
      "Epoch 42/100\n",
      "24/24 [==============================] - 21s 874ms/step - loss: 0.3339 - categorical_accuracy: 0.9456 - val_loss: 0.5561 - val_categorical_accuracy: 0.8351\n",
      "Epoch 43/100\n",
      "24/24 [==============================] - 21s 872ms/step - loss: 0.3197 - categorical_accuracy: 0.9416 - val_loss: 0.5531 - val_categorical_accuracy: 0.8351\n",
      "Epoch 44/100\n",
      "24/24 [==============================] - 21s 857ms/step - loss: 0.3232 - categorical_accuracy: 0.9412 - val_loss: 0.5537 - val_categorical_accuracy: 0.8257\n",
      "Epoch 45/100\n",
      "24/24 [==============================] - 21s 864ms/step - loss: 0.3195 - categorical_accuracy: 0.9456 - val_loss: 0.5596 - val_categorical_accuracy: 0.8311\n",
      "Epoch 46/100\n",
      "24/24 [==============================] - 20s 847ms/step - loss: 0.3145 - categorical_accuracy: 0.9473 - val_loss: 0.5592 - val_categorical_accuracy: 0.8324\n",
      "Epoch 47/100\n",
      "24/24 [==============================] - 20s 834ms/step - loss: 0.3155 - categorical_accuracy: 0.9473 - val_loss: 0.5650 - val_categorical_accuracy: 0.8203\n",
      "Epoch 48/100\n",
      "24/24 [==============================] - 20s 838ms/step - loss: 0.3125 - categorical_accuracy: 0.9527 - val_loss: 0.5597 - val_categorical_accuracy: 0.8351\n",
      "Epoch 49/100\n",
      "24/24 [==============================] - 20s 829ms/step - loss: 0.3046 - categorical_accuracy: 0.9601 - val_loss: 0.5683 - val_categorical_accuracy: 0.8284\n",
      "Epoch 50/100\n",
      "24/24 [==============================] - 20s 834ms/step - loss: 0.3066 - categorical_accuracy: 0.9544 - val_loss: 0.5633 - val_categorical_accuracy: 0.8338\n",
      "Epoch 51/100\n",
      "24/24 [==============================] - 20s 828ms/step - loss: 0.3015 - categorical_accuracy: 0.9588 - val_loss: 0.5695 - val_categorical_accuracy: 0.8297\n",
      "Epoch 52/100\n",
      "24/24 [==============================] - 20s 829ms/step - loss: 0.3001 - categorical_accuracy: 0.9574 - val_loss: 0.5604 - val_categorical_accuracy: 0.8338\n"
     ]
    }
   ],
   "source": [
    "history = model.fit(train_ds.shuffle(1000).batch(128),\n",
    "                    epochs=epochs ,\n",
    "                    validation_data=valid_ds.batch(128),\n",
    "                    verbose=1,\n",
    "                    callbacks=[early_stopping, model_checkpoint])\n",
    "model.save('/Users/sankeerthana/Documents/NTU/YEAR_4/CZ4045/Group_Assignment/NLP-text-classification-CNN/model/models/cornell_v2_final_model.h5')"
   ]
  },
  {
   "cell_type": "markdown",
   "metadata": {},
   "source": [
    "**Try 1**\n",
    "\n",
    "Model stopped at epoch 30 - with val_categorical_accuracy = 0.7975"
   ]
  },
  {
   "cell_type": "markdown",
   "metadata": {},
   "source": [
    "### Storing the History File - Future References"
   ]
  },
  {
   "cell_type": "code",
   "execution_count": 77,
   "metadata": {},
   "outputs": [],
   "source": [
    "with open('/Users/sankeerthana/Documents/NTU/YEAR_4/CZ4045/Group_Assignment/NLP-text-classification-CNN/model/history/cornell_v2_history.txt', 'w') as f:\n",
    "    f.writelines(str(history.history))"
   ]
  },
  {
   "cell_type": "markdown",
   "metadata": {},
   "source": [
    "### Saving Model Code"
   ]
  },
  {
   "cell_type": "code",
   "execution_count": 98,
   "metadata": {},
   "outputs": [],
   "source": [
    "model_code = [\"model = tf.keras.Sequential()\",\n",
    "\"model.add(tf.keras.layers.Embedding(max_features+1, embedding_dim, input_length=sequence_length, embeddings_regularizer = regularizers.l2(0.0005)))\", \n",
    "\"model.add(tf.keras.layers.Conv1D(128,3, activation='relu', kernel_regularizer = regularizers.l2(0.0005),bias_regularizer = regularizers.l2(0.0005))) \",                             \n",
    "\"model.add(tf.keras.layers.GlobalMaxPooling1D())\",\n",
    "\"model.add(tf.keras.layers.Dropout(0.5))\",\n",
    "\"model.add(tf.keras.layers.Flatten())\",\n",
    "\"model.add(tf.keras.layers.Dense(2, activation='sigmoid',kernel_regularizer=regularizers.l2(0.001),bias_regularizer=regularizers.l2(0.001),))\",\n",
    "\"model.compile(loss=tf.keras.losses.CategoricalCrossentropy(from_logits=True), optimizer='Nadam', metrics=['CategoricalAccuracy'])\"]"
   ]
  },
  {
   "cell_type": "code",
   "execution_count": 99,
   "metadata": {},
   "outputs": [],
   "source": [
    "with open('/Users/sankeerthana/Documents/NTU/YEAR_4/CZ4045/Group_Assignment/NLP-text-classification-CNN/model/models/try1_model_code.txt','w') as f:\n",
    "    f.writelines(str(model_code))"
   ]
  },
  {
   "cell_type": "markdown",
   "metadata": {},
   "source": [
    "## Performance Visualisation and Analysis"
   ]
  },
  {
   "cell_type": "markdown",
   "metadata": {},
   "source": [
    "### Accuracy Curves"
   ]
  },
  {
   "cell_type": "code",
   "execution_count": 78,
   "metadata": {},
   "outputs": [
    {
     "data": {
      "image/png": "[encoded data removed]",
      "text/plain": [
       "<Figure size 432x288 with 1 Axes>"
      ]
     },
     "metadata": {
      "needs_background": "light"
     },
     "output_type": "display_data"
    }
   ],
   "source": [
    "plt.plot(history.history['categorical_accuracy'], label='Training Accuracy')\n",
    "plt.plot(history.history['val_categorical_accuracy'], label='Validation Accuracy')\n",
    "plt.title('CategoricalAccuracy for Try1')\n",
    "plt.ylabel('CategoricalAccuracy value')\n",
    "plt.xlabel('Epoch Number')\n",
    "plt.legend(loc=\"lower right\")\n",
    "plt.savefig('/Users/sankeerthana/Documents/NTU/YEAR_4/CZ4045/Group_Assignment/NLP-text-classification-CNN/model/analysis/cornell_v2__acc.jpg')\n",
    "plt.show()"
   ]
  },
  {
   "cell_type": "markdown",
   "metadata": {},
   "source": [
    "### Loss Curves"
   ]
  },
  {
   "cell_type": "code",
   "execution_count": 79,
   "metadata": {},
   "outputs": [
    {
     "data": {
      "image/png": "[encoded data removed]",
      "text/plain": [
       "<Figure size 432x288 with 1 Axes>"
      ]
     },
     "metadata": {
      "needs_background": "light"
     },
     "output_type": "display_data"
    }
   ],
   "source": [
    "plt.plot(history.history['loss'], label=' Training Loss')\n",
    "plt.plot(history.history['val_loss'], label='Validation Loss)')\n",
    "plt.title('Loss for Try1')\n",
    "plt.ylabel('Loss value')\n",
    "plt.xlabel('Epoch Number')\n",
    "plt.legend(loc=\"lower left\")\n",
    "plt.savefig('/Users/sankeerthana/Documents/NTU/YEAR_4/CZ4045/Group_Assignment/NLP-text-classification-CNN/model/analysis/cornell_v2_try2_loss.jpg')\n",
    "plt.show()"
   ]
  },
  {
   "cell_type": "markdown",
   "metadata": {},
   "source": [
    "## Inference on Test Set"
   ]
  },
  {
   "cell_type": "markdown",
   "metadata": {},
   "source": [
    "### Predictions"
   ]
  },
  {
   "cell_type": "code",
   "execution_count": 106,
   "metadata": {},
   "outputs": [
    {
     "name": "stdout",
     "output_type": "stream",
     "text": [
      "Generate predictions for all samples\n"
     ]
    },
    {
     "name": "stderr",
     "output_type": "stream",
     "text": [
      "2022-11-06 18:35:45.787835: I tensorflow/core/grappler/optimizers/custom_graph_optimizer_registry.cc:112] Plugin optimizer for device_type GPU is enabled.\n"
     ]
    },
    {
     "name": "stdout",
     "output_type": "stream",
     "text": [
      "[[0.01189631 0.9732666  0.01483711]\n",
      " [0.15062359 0.68962127 0.1597552 ]\n",
      " [0.12916745 0.06832042 0.80251217]\n",
      " ...\n",
      " [0.06960411 0.883766   0.0466299 ]\n",
      " [0.12995091 0.5324104  0.33763868]\n",
      " [0.02311238 0.93603605 0.04085155]]\n"
     ]
    }
   ],
   "source": [
    "print(\"Generate predictions for all samples\")\n",
    "predictions = model.predict(x_test)\n",
    "print(predictions)\n",
    "predict_results = predictions.argmax(axis=1)"
   ]
  },
  {
   "cell_type": "code",
   "execution_count": 107,
   "metadata": {},
   "outputs": [],
   "source": [
    "test_data['pred_sentiment'] = predict_results"
   ]
  },
  {
   "cell_type": "code",
   "execution_count": 108,
   "metadata": {},
   "outputs": [
    {
     "data": {
      "text/html": [
       "<div>\n",
       "<style scoped>\n",
       "    .dataframe tbody tr th:only-of-type {\n",
       "        vertical-align: middle;\n",
       "    }\n",
       "\n",
       "    .dataframe tbody tr th {\n",
       "        vertical-align: top;\n",
       "    }\n",
       "\n",
       "    .dataframe thead th {\n",
       "        text-align: right;\n",
       "    }\n",
       "</style>\n",
       "<table border=\"1\" class=\"dataframe\">\n",
       "  <thead>\n",
       "    <tr style=\"text-align: right;\">\n",
       "      <th></th>\n",
       "      <th>text</th>\n",
       "      <th>sentiment</th>\n",
       "      <th>pred_sentiment</th>\n",
       "    </tr>\n",
       "  </thead>\n",
       "  <tbody>\n",
       "    <tr>\n",
       "      <th>0</th>\n",
       "      <td>the difference between new and old padding bus...</td>\n",
       "      <td>1</td>\n",
       "      <td>1</td>\n",
       "    </tr>\n",
       "    <tr>\n",
       "      <th>1</th>\n",
       "      <td>friend have vry sexual convos will mention the...</td>\n",
       "      <td>1</td>\n",
       "      <td>1</td>\n",
       "    </tr>\n",
       "    <tr>\n",
       "      <th>2</th>\n",
       "      <td>went for dentist appointment for some pain aft...</td>\n",
       "      <td>1</td>\n",
       "      <td>2</td>\n",
       "    </tr>\n",
       "    <tr>\n",
       "      <th>3</th>\n",
       "      <td>why did text someone again</td>\n",
       "      <td>1</td>\n",
       "      <td>1</td>\n",
       "    </tr>\n",
       "    <tr>\n",
       "      <th>4</th>\n",
       "      <td>guys have ace character and hes poc ððð...</td>\n",
       "      <td>1</td>\n",
       "      <td>1</td>\n",
       "    </tr>\n",
       "    <tr>\n",
       "      <th>...</th>\n",
       "      <td>...</td>\n",
       "      <td>...</td>\n",
       "      <td>...</td>\n",
       "    </tr>\n",
       "    <tr>\n",
       "      <th>795</th>\n",
       "      <td>ive made decision that will quite possibly mos...</td>\n",
       "      <td>0</td>\n",
       "      <td>1</td>\n",
       "    </tr>\n",
       "    <tr>\n",
       "      <th>796</th>\n",
       "      <td>hate anxiety</td>\n",
       "      <td>0</td>\n",
       "      <td>1</td>\n",
       "    </tr>\n",
       "    <tr>\n",
       "      <th>797</th>\n",
       "      <td>lesbian but too afraid tell anyone</td>\n",
       "      <td>0</td>\n",
       "      <td>1</td>\n",
       "    </tr>\n",
       "    <tr>\n",
       "      <th>798</th>\n",
       "      <td>not enough and dont think that ever will</td>\n",
       "      <td>0</td>\n",
       "      <td>1</td>\n",
       "    </tr>\n",
       "    <tr>\n",
       "      <th>799</th>\n",
       "      <td>ive been writing down all depressive thoughts ...</td>\n",
       "      <td>0</td>\n",
       "      <td>1</td>\n",
       "    </tr>\n",
       "  </tbody>\n",
       "</table>\n",
       "<p>800 rows × 3 columns</p>\n",
       "</div>"
      ],
      "text/plain": [
       "                                                  text  sentiment  \\\n",
       "0    the difference between new and old padding bus...          1   \n",
       "1    friend have vry sexual convos will mention the...          1   \n",
       "2    went for dentist appointment for some pain aft...          1   \n",
       "3                           why did text someone again          1   \n",
       "4    guys have ace character and hes poc ððð...          1   \n",
       "..                                                 ...        ...   \n",
       "795  ive made decision that will quite possibly mos...          0   \n",
       "796                                       hate anxiety          0   \n",
       "797                 lesbian but too afraid tell anyone          0   \n",
       "798           not enough and dont think that ever will          0   \n",
       "799  ive been writing down all depressive thoughts ...          0   \n",
       "\n",
       "     pred_sentiment  \n",
       "0                 1  \n",
       "1                 1  \n",
       "2                 2  \n",
       "3                 1  \n",
       "4                 1  \n",
       "..              ...  \n",
       "795               1  \n",
       "796               1  \n",
       "797               1  \n",
       "798               1  \n",
       "799               1  \n",
       "\n",
       "[800 rows x 3 columns]"
      ]
     },
     "execution_count": 108,
     "metadata": {},
     "output_type": "execute_result"
    }
   ],
   "source": [
    "test_data"
   ]
  },
  {
   "cell_type": "markdown",
   "metadata": {},
   "source": [
    "### Score"
   ]
  },
  {
   "cell_type": "code",
   "execution_count": 109,
   "metadata": {},
   "outputs": [],
   "source": [
    "gt_label = test_data['sentiment']\n",
    "pred_label = test_data['pred_sentiment']"
   ]
  },
  {
   "cell_type": "code",
   "execution_count": 110,
   "metadata": {},
   "outputs": [
    {
     "name": "stdout",
     "output_type": "stream",
     "text": [
      "========= RESULT ==========\n",
      "Total : 800\n",
      "Correct : 465\n",
      "Wrong : 335\n",
      "\n",
      "Accuracy : 58.12500000000001\n"
     ]
    }
   ],
   "source": [
    "correct = 0\n",
    "wrong = 0\n",
    "\n",
    "for i in range(len(gt_label)):\n",
    "    if gt_label[i] == pred_label[i]:\n",
    "        correct += 1\n",
    "    else:\n",
    "        wrong += 1\n",
    "\n",
    "print(\"========= RESULT ==========\")\n",
    "print(f\"Total : {len(gt_label)}\")\n",
    "print(f\"Correct : {correct}\")\n",
    "print(f\"Wrong : {wrong}\")\n",
    "\n",
    "print(\"\")\n",
    "\n",
    "print(f\"Accuracy : {(correct/len(gt_label))*100}\")"
   ]
  },
  {
   "cell_type": "markdown",
   "metadata": {},
   "source": [
    "Accuracy on Test Set is 58.1%"
   ]
  },
  {
   "cell_type": "code",
   "execution_count": 111,
   "metadata": {},
   "outputs": [
    {
     "name": "stdout",
     "output_type": "stream",
     "text": [
      "              precision    recall  f1-score   support\n",
      "\n",
      "           0       0.22      0.07      0.11       150\n",
      "           1       0.63      0.89      0.74       500\n",
      "           2       0.18      0.05      0.07       150\n",
      "\n",
      "    accuracy                           0.58       800\n",
      "   macro avg       0.34      0.34      0.31       800\n",
      "weighted avg       0.47      0.58      0.50       800\n",
      "\n"
     ]
    }
   ],
   "source": [
    "val = [0, 1, 2]\n",
    "    \n",
    "print(classification_report(test_data['sentiment'].tolist(),test_data['pred_sentiment'].tolist(),labels=val))"
   ]
  },
  {
   "cell_type": "code",
   "execution_count": null,
   "metadata": {},
   "outputs": [],
   "source": []
  }
 ],
 "metadata": {
  "kernelspec": {
   "display_name": "Python 3.9.7 ('ml')",
   "language": "python",
   "name": "python3"
  },
  "language_info": {
   "codemirror_mode": {
    "name": "ipython",
    "version": 3
   },
   "file_extension": ".py",
   "mimetype": "text/x-python",
   "name": "python",
   "nbconvert_exporter": "python",
   "pygments_lexer": "ipython3",
   "version": "3.9.7"
  },
  "orig_nbformat": 4,
  "vscode": {
   "interpreter": {
    "hash": "4fd9d67d0e9a41140145a4f72bf435aeee9c17c765bd40006482f4c6ff739f86"
   }
  }
 },
 "nbformat": 4,
 "nbformat_minor": 2
}
